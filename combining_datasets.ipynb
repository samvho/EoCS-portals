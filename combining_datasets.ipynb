{
 "cells": [
  {
   "cell_type": "code",
   "execution_count": 1,
   "metadata": {},
   "outputs": [],
   "source": [
    "import csv"
   ]
  },
  {
   "cell_type": "code",
   "execution_count": 2,
   "metadata": {},
   "outputs": [],
   "source": [
    "data_nrs = [1, 5260052, 8438807, 13086831, 16207692, 33042367]\n",
    "path = '../data/all_portals_from_{}.csv'\n",
    "\n",
    "with open('../data/all_portal_data.csv', 'w') as out_file:\n",
    "    fnames = [\n",
    "        'id', 'firsttime', 'lasttime', 'response', 'ip', 'as', 'domain', 'country', 'source', 'inetnum', 'netname'\n",
    "    ]\n",
    "    \n",
    "    writer = csv.DictWriter(out_file, fieldnames=fnames)\n",
    "    writer.writeheader()\n",
    "    \n",
    "    for nr in data_nrs:\n",
    "        data_path = path.format(nr)\n",
    "        \n",
    "        encoding = 'latin-1'\n",
    "        with open(data_path, 'r', encoding=encoding) as csvfile:\n",
    "            # some files have NULL bytes in them so these need to be replaced\n",
    "            reader = csv.DictReader(line.replace('\\0','') for line in csvfile)\n",
    "            \n",
    "            for row in reader:\n",
    "                if row['virusname'] == 'defaced_site':\n",
    "                    if row['firsttime'] == '' or row['lasttime'] == '' or row['country'] == '':\n",
    "                        pass\n",
    "                    else:\n",
    "                        writer.writerow(\n",
    "                            {k: row[k] for k in fnames}\n",
    "                        )"
   ]
  }
 ],
 "metadata": {
  "kernelspec": {
   "display_name": "Python 3",
   "language": "python",
   "name": "python3"
  },
  "language_info": {
   "codemirror_mode": {
    "name": "ipython",
    "version": 3
   },
   "file_extension": ".py",
   "mimetype": "text/x-python",
   "name": "python",
   "nbconvert_exporter": "python",
   "pygments_lexer": "ipython3",
   "version": "3.7.3"
  }
 },
 "nbformat": 4,
 "nbformat_minor": 2
}
