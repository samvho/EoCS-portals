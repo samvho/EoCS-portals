{
 "cells": [
  {
   "cell_type": "code",
   "execution_count": 73,
   "metadata": {},
   "outputs": [],
   "source": [
    "import pandas as pd\n",
    "import warnings\n",
    "from collections import Counter\n",
    "warnings.filterwarnings(\"ignore\")\n",
    "\n",
    "import scipy.stats as ss\n",
    "import numpy as np"
   ]
  },
  {
   "cell_type": "code",
   "execution_count": 74,
   "metadata": {},
   "outputs": [],
   "source": [
    "df = pd.read_csv('./data/all_portal_data_cleaned.csv')"
   ]
  },
  {
   "cell_type": "code",
   "execution_count": 75,
   "metadata": {
    "scrolled": true
   },
   "outputs": [
    {
     "data": {
      "text/html": [
       "<div>\n",
       "<style scoped>\n",
       "    .dataframe tbody tr th:only-of-type {\n",
       "        vertical-align: middle;\n",
       "    }\n",
       "\n",
       "    .dataframe tbody tr th {\n",
       "        vertical-align: top;\n",
       "    }\n",
       "\n",
       "    .dataframe thead th {\n",
       "        text-align: right;\n",
       "    }\n",
       "</style>\n",
       "<table border=\"1\" class=\"dataframe\">\n",
       "  <thead>\n",
       "    <tr style=\"text-align: right;\">\n",
       "      <th></th>\n",
       "      <th>id</th>\n",
       "      <th>firsttime</th>\n",
       "      <th>lasttime</th>\n",
       "      <th>response</th>\n",
       "      <th>ip</th>\n",
       "      <th>as</th>\n",
       "      <th>domain</th>\n",
       "      <th>country</th>\n",
       "      <th>source</th>\n",
       "      <th>inetnum</th>\n",
       "      <th>netname</th>\n",
       "    </tr>\n",
       "  </thead>\n",
       "  <tbody>\n",
       "    <tr>\n",
       "      <th>0</th>\n",
       "      <td>198137</td>\n",
       "      <td>2011-09-27 13:10:18</td>\n",
       "      <td>2012-03-25 08:17:41</td>\n",
       "      <td>dead</td>\n",
       "      <td>222.165.135.195</td>\n",
       "      <td>AS9329</td>\n",
       "      <td>wpc.gov.lk</td>\n",
       "      <td>LK</td>\n",
       "      <td>APNIC</td>\n",
       "      <td>222.165.135.0 - 222.165.135.255</td>\n",
       "      <td>CUS-LAN-SLT-LK</td>\n",
       "    </tr>\n",
       "    <tr>\n",
       "      <th>1</th>\n",
       "      <td>198193</td>\n",
       "      <td>2011-09-27 13:10:19</td>\n",
       "      <td>2013-06-24 17:22:49</td>\n",
       "      <td>dead</td>\n",
       "      <td>74.53.224.194</td>\n",
       "      <td>AS32613</td>\n",
       "      <td>hospitalsanbernabe.gov.co</td>\n",
       "      <td>US</td>\n",
       "      <td>ARIN</td>\n",
       "      <td>198.50.100.48 - 198.50.100.55</td>\n",
       "      <td>IWEB-CL-T118-490CL-1414</td>\n",
       "    </tr>\n",
       "    <tr>\n",
       "      <th>2</th>\n",
       "      <td>198221</td>\n",
       "      <td>2011-09-27 13:10:19</td>\n",
       "      <td>2014-01-26 19:16:56</td>\n",
       "      <td>dead</td>\n",
       "      <td>210.56.24.2</td>\n",
       "      <td>AS7590</td>\n",
       "      <td>un.org.pk</td>\n",
       "      <td>PK</td>\n",
       "      <td>APNIC</td>\n",
       "      <td>210.56.0.0 - 210.56.31.255</td>\n",
       "      <td>COMSATS</td>\n",
       "    </tr>\n",
       "    <tr>\n",
       "      <th>3</th>\n",
       "      <td>198341</td>\n",
       "      <td>2011-09-27 13:10:20</td>\n",
       "      <td>2013-02-22 04:40:33</td>\n",
       "      <td>dead</td>\n",
       "      <td>84.51.33.86</td>\n",
       "      <td>AS34104</td>\n",
       "      <td>espiyemeb.gov.tr</td>\n",
       "      <td>TR</td>\n",
       "      <td>RIPE</td>\n",
       "      <td>84.51.33.0 - 84.51.33.255</td>\n",
       "      <td>MARKUM_BILISIM_3</td>\n",
       "    </tr>\n",
       "    <tr>\n",
       "      <th>4</th>\n",
       "      <td>198382</td>\n",
       "      <td>2011-09-27 13:10:21</td>\n",
       "      <td>2012-03-03 12:38:32</td>\n",
       "      <td>dead</td>\n",
       "      <td>74.53.224.194</td>\n",
       "      <td>AS21844</td>\n",
       "      <td>hospitalsanbernabe.gov.co</td>\n",
       "      <td>US</td>\n",
       "      <td>ARIN</td>\n",
       "      <td>74.52.0.0 - 74.53.255.255</td>\n",
       "      <td>NETBLK-THEPLANET-BLK-14</td>\n",
       "    </tr>\n",
       "  </tbody>\n",
       "</table>\n",
       "</div>"
      ],
      "text/plain": [
       "       id           firsttime            lasttime response               ip  \\\n",
       "0  198137 2011-09-27 13:10:18 2012-03-25 08:17:41     dead  222.165.135.195   \n",
       "1  198193 2011-09-27 13:10:19 2013-06-24 17:22:49     dead    74.53.224.194   \n",
       "2  198221 2011-09-27 13:10:19 2014-01-26 19:16:56     dead      210.56.24.2   \n",
       "3  198341 2011-09-27 13:10:20 2013-02-22 04:40:33     dead      84.51.33.86   \n",
       "4  198382 2011-09-27 13:10:21 2012-03-03 12:38:32     dead    74.53.224.194   \n",
       "\n",
       "        as                     domain country source  \\\n",
       "0   AS9329                 wpc.gov.lk      LK  APNIC   \n",
       "1  AS32613  hospitalsanbernabe.gov.co      US   ARIN   \n",
       "2   AS7590                  un.org.pk      PK  APNIC   \n",
       "3  AS34104           espiyemeb.gov.tr      TR   RIPE   \n",
       "4  AS21844  hospitalsanbernabe.gov.co      US   ARIN   \n",
       "\n",
       "                           inetnum                  netname  \n",
       "0  222.165.135.0 - 222.165.135.255           CUS-LAN-SLT-LK  \n",
       "1    198.50.100.48 - 198.50.100.55  IWEB-CL-T118-490CL-1414  \n",
       "2       210.56.0.0 - 210.56.31.255                  COMSATS  \n",
       "3        84.51.33.0 - 84.51.33.255         MARKUM_BILISIM_3  \n",
       "4        74.52.0.0 - 74.53.255.255  NETBLK-THEPLANET-BLK-14  "
      ]
     },
     "execution_count": 75,
     "metadata": {},
     "output_type": "execute_result"
    }
   ],
   "source": [
    "df['firsttime'] = pd.to_datetime(df['firsttime'])\n",
    "df['lasttime'] = pd.to_datetime(df['lasttime'])\n",
    "df.head()"
   ]
  },
  {
   "cell_type": "code",
   "execution_count": 76,
   "metadata": {
    "scrolled": true
   },
   "outputs": [
    {
     "name": "stdout",
     "output_type": "stream",
     "text": [
      "(873984, 11)\n",
      "(51535, 11)\n",
      "(817303, 11)\n"
     ]
    }
   ],
   "source": [
    "# split in alive and dead \n",
    "df_alive = df.loc[df['response'] == 'alive']\n",
    "df_dead = df.loc[df['response'] == 'dead']\n",
    "print(df.shape)\n",
    "print(df_alive.shape)\n",
    "print(df_dead.shape)"
   ]
  },
  {
   "cell_type": "code",
   "execution_count": 77,
   "metadata": {},
   "outputs": [],
   "source": [
    "def time_delta_to_days(row):\n",
    "    delta = row.lasttime - row.firsttime\n",
    "    delta = delta.days\n",
    "    return delta"
   ]
  },
  {
   "cell_type": "code",
   "execution_count": 78,
   "metadata": {},
   "outputs": [],
   "source": [
    "# calculate lifetime\n",
    "df_dead['lifetime'] = df_dead.apply(time_delta_to_days, axis=1)"
   ]
  },
  {
   "cell_type": "code",
   "execution_count": 79,
   "metadata": {},
   "outputs": [
    {
     "data": {
      "text/plain": [
       "(817303, 12)"
      ]
     },
     "execution_count": 79,
     "metadata": {},
     "output_type": "execute_result"
    }
   ],
   "source": [
    "df_dead.shape"
   ]
  },
  {
   "cell_type": "code",
   "execution_count": 80,
   "metadata": {},
   "outputs": [],
   "source": [
    "# filter out outliers\n",
    "df_dead['z_score'] = df_dead.groupby('as')['lifetime'].apply(lambda x: (x-x.mean())/x.std())\n",
    "df_dead = df_dead[abs(df_dead['z_score']) <3]"
   ]
  },
  {
   "cell_type": "code",
   "execution_count": 81,
   "metadata": {},
   "outputs": [
    {
     "data": {
      "text/plain": [
       "(794330, 13)"
      ]
     },
     "execution_count": 81,
     "metadata": {},
     "output_type": "execute_result"
    }
   ],
   "source": [
    "df_dead.shape"
   ]
  },
  {
   "cell_type": "code",
   "execution_count": 82,
   "metadata": {},
   "outputs": [
    {
     "data": {
      "text/plain": [
       "(861, 2)"
      ]
     },
     "execution_count": 82,
     "metadata": {},
     "output_type": "execute_result"
    }
   ],
   "source": [
    "# calculate mean lifetime per AS\n",
    "means = df_dead.groupby('as')['lifetime'].mean(numeric_only=False)\n",
    "counter = Counter(df_dead['as'])\n",
    "\n",
    "# filter out ASs with less than 100 incidents\n",
    "AS_lifetime = pd.DataFrame(means.sort_values())\n",
    "AS_lifetime['num_incidents'] = AS_lifetime.apply(lambda row: counter[row.name], axis=1)\n",
    "AS_lifetime = AS_lifetime.loc[AS_lifetime['num_incidents'] >= 100]\n",
    "AS_lifetime.shape"
   ]
  },
  {
   "cell_type": "code",
   "execution_count": 102,
   "metadata": {
    "scrolled": true
   },
   "outputs": [
    {
     "data": {
      "image/png": "[encoded data removed]",
      "text/plain": [
       "<Figure size 1008x576 with 2 Axes>"
      ]
     },
     "metadata": {
      "needs_background": "light"
     },
     "output_type": "display_data"
    },
    {
     "data": {
      "image/png": "[encoded data removed]",
      "text/plain": [
       "<Figure size 1008x576 with 2 Axes>"
      ]
     },
     "metadata": {
      "needs_background": "light"
     },
     "output_type": "display_data"
    }
   ],
   "source": [
    "plot = AS_lifetime.sort_values(by=['lifetime'], ascending=0)[0:20].plot(kind='bar', secondary_y='num_incidents',figsize=(14,8), title='20 worst performing ASs')\n",
    "plot.set_ylabel('lifetime (days)')\n",
    "fig = plot.get_figure()\n",
    "fig.savefig('worst_20.png', bbox_inches = \"tight\")\n",
    "\n",
    "plot = AS_lifetime.sort_values(by=['lifetime'])[0:20].plot(kind='bar', secondary_y='num_incidents',figsize=(14,8), title='20 best performing ASs')\n",
    "plot.set_ylabel('lifetime (days)')\n",
    "fig = plot.get_figure()\n",
    "fig.savefig('best_20.png', bbox_inches = \"tight\")\n"
   ]
  },
  {
   "cell_type": "code",
   "execution_count": null,
   "metadata": {},
   "outputs": [],
   "source": []
  },
  {
   "cell_type": "code",
   "execution_count": null,
   "metadata": {},
   "outputs": [],
   "source": []
  },
  {
   "cell_type": "code",
   "execution_count": null,
   "metadata": {},
   "outputs": [],
   "source": [
    "\n"
   ]
  }
 ],
 "metadata": {
  "kernelspec": {
   "display_name": "Python 3",
   "language": "python",
   "name": "python3"
  },
  "language_info": {
   "codemirror_mode": {
    "name": "ipython",
    "version": 3
   },
   "file_extension": ".py",
   "mimetype": "text/x-python",
   "name": "python",
   "nbconvert_exporter": "python",
   "pygments_lexer": "ipython3",
   "version": "3.7.3"
  }
 },
 "nbformat": 4,
 "nbformat_minor": 2
}
