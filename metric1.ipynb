{
 "cells": [
  {
   "cell_type": "code",
   "execution_count": 11,
   "metadata": {},
   "outputs": [],
   "source": [
    "import pandas as pd\n",
    "import warnings\n",
    "from collections import Counter\n",
    "warnings.filterwarnings(\"ignore\")\n",
    "%matplotlib inline\n",
    "import numpy as np"
   ]
  },
  {
   "cell_type": "code",
   "execution_count": 3,
   "metadata": {},
   "outputs": [],
   "source": [
    "df = pd.read_csv('./data/all_portal_data_cleaned.csv')"
   ]
  },
  {
   "cell_type": "code",
   "execution_count": 4,
   "metadata": {
    "scrolled": true
   },
   "outputs": [
    {
     "data": {
      "text/html": [
       "<div>\n",
       "<style scoped>\n",
       "    .dataframe tbody tr th:only-of-type {\n",
       "        vertical-align: middle;\n",
       "    }\n",
       "\n",
       "    .dataframe tbody tr th {\n",
       "        vertical-align: top;\n",
       "    }\n",
       "\n",
       "    .dataframe thead th {\n",
       "        text-align: right;\n",
       "    }\n",
       "</style>\n",
       "<table border=\"1\" class=\"dataframe\">\n",
       "  <thead>\n",
       "    <tr style=\"text-align: right;\">\n",
       "      <th></th>\n",
       "      <th>id</th>\n",
       "      <th>firsttime</th>\n",
       "      <th>lasttime</th>\n",
       "      <th>response</th>\n",
       "      <th>ip</th>\n",
       "      <th>as</th>\n",
       "      <th>domain</th>\n",
       "      <th>country</th>\n",
       "      <th>source</th>\n",
       "      <th>inetnum</th>\n",
       "      <th>netname</th>\n",
       "    </tr>\n",
       "  </thead>\n",
       "  <tbody>\n",
       "    <tr>\n",
       "      <td>0</td>\n",
       "      <td>198137</td>\n",
       "      <td>2011-09-27 13:10:18</td>\n",
       "      <td>2012-03-25 08:17:41</td>\n",
       "      <td>dead</td>\n",
       "      <td>222.165.135.195</td>\n",
       "      <td>AS9329</td>\n",
       "      <td>wpc.gov.lk</td>\n",
       "      <td>LK</td>\n",
       "      <td>APNIC</td>\n",
       "      <td>222.165.135.0 - 222.165.135.255</td>\n",
       "      <td>CUS-LAN-SLT-LK</td>\n",
       "    </tr>\n",
       "    <tr>\n",
       "      <td>1</td>\n",
       "      <td>198193</td>\n",
       "      <td>2011-09-27 13:10:19</td>\n",
       "      <td>2013-06-24 17:22:49</td>\n",
       "      <td>dead</td>\n",
       "      <td>74.53.224.194</td>\n",
       "      <td>AS32613</td>\n",
       "      <td>hospitalsanbernabe.gov.co</td>\n",
       "      <td>US</td>\n",
       "      <td>ARIN</td>\n",
       "      <td>198.50.100.48 - 198.50.100.55</td>\n",
       "      <td>IWEB-CL-T118-490CL-1414</td>\n",
       "    </tr>\n",
       "    <tr>\n",
       "      <td>2</td>\n",
       "      <td>198221</td>\n",
       "      <td>2011-09-27 13:10:19</td>\n",
       "      <td>2014-01-26 19:16:56</td>\n",
       "      <td>dead</td>\n",
       "      <td>210.56.24.2</td>\n",
       "      <td>AS7590</td>\n",
       "      <td>un.org.pk</td>\n",
       "      <td>PK</td>\n",
       "      <td>APNIC</td>\n",
       "      <td>210.56.0.0 - 210.56.31.255</td>\n",
       "      <td>COMSATS</td>\n",
       "    </tr>\n",
       "    <tr>\n",
       "      <td>3</td>\n",
       "      <td>198341</td>\n",
       "      <td>2011-09-27 13:10:20</td>\n",
       "      <td>2013-02-22 04:40:33</td>\n",
       "      <td>dead</td>\n",
       "      <td>84.51.33.86</td>\n",
       "      <td>AS34104</td>\n",
       "      <td>espiyemeb.gov.tr</td>\n",
       "      <td>TR</td>\n",
       "      <td>RIPE</td>\n",
       "      <td>84.51.33.0 - 84.51.33.255</td>\n",
       "      <td>MARKUM_BILISIM_3</td>\n",
       "    </tr>\n",
       "    <tr>\n",
       "      <td>4</td>\n",
       "      <td>198382</td>\n",
       "      <td>2011-09-27 13:10:21</td>\n",
       "      <td>2012-03-03 12:38:32</td>\n",
       "      <td>dead</td>\n",
       "      <td>74.53.224.194</td>\n",
       "      <td>AS21844</td>\n",
       "      <td>hospitalsanbernabe.gov.co</td>\n",
       "      <td>US</td>\n",
       "      <td>ARIN</td>\n",
       "      <td>74.52.0.0 - 74.53.255.255</td>\n",
       "      <td>NETBLK-THEPLANET-BLK-14</td>\n",
       "    </tr>\n",
       "  </tbody>\n",
       "</table>\n",
       "</div>"
      ],
      "text/plain": [
       "       id           firsttime            lasttime response               ip  \\\n",
       "0  198137 2011-09-27 13:10:18 2012-03-25 08:17:41     dead  222.165.135.195   \n",
       "1  198193 2011-09-27 13:10:19 2013-06-24 17:22:49     dead    74.53.224.194   \n",
       "2  198221 2011-09-27 13:10:19 2014-01-26 19:16:56     dead      210.56.24.2   \n",
       "3  198341 2011-09-27 13:10:20 2013-02-22 04:40:33     dead      84.51.33.86   \n",
       "4  198382 2011-09-27 13:10:21 2012-03-03 12:38:32     dead    74.53.224.194   \n",
       "\n",
       "        as                     domain country source  \\\n",
       "0   AS9329                 wpc.gov.lk      LK  APNIC   \n",
       "1  AS32613  hospitalsanbernabe.gov.co      US   ARIN   \n",
       "2   AS7590                  un.org.pk      PK  APNIC   \n",
       "3  AS34104           espiyemeb.gov.tr      TR   RIPE   \n",
       "4  AS21844  hospitalsanbernabe.gov.co      US   ARIN   \n",
       "\n",
       "                           inetnum                  netname  \n",
       "0  222.165.135.0 - 222.165.135.255           CUS-LAN-SLT-LK  \n",
       "1    198.50.100.48 - 198.50.100.55  IWEB-CL-T118-490CL-1414  \n",
       "2       210.56.0.0 - 210.56.31.255                  COMSATS  \n",
       "3        84.51.33.0 - 84.51.33.255         MARKUM_BILISIM_3  \n",
       "4        74.52.0.0 - 74.53.255.255  NETBLK-THEPLANET-BLK-14  "
      ]
     },
     "execution_count": 4,
     "metadata": {},
     "output_type": "execute_result"
    }
   ],
   "source": [
    "df['firsttime'] = pd.to_datetime(df['firsttime'])\n",
    "df['lasttime'] = pd.to_datetime(df['lasttime'])\n",
    "df.head()"
   ]
  },
  {
   "cell_type": "code",
   "execution_count": 5,
   "metadata": {
    "scrolled": true
   },
   "outputs": [
    {
     "name": "stdout",
     "output_type": "stream",
     "text": [
      "(873984, 11)\n",
      "(51535, 11)\n",
      "(817303, 11)\n"
     ]
    }
   ],
   "source": [
    "# split in alive and dead \n",
    "df_alive = df.loc[df['response'] == 'alive']\n",
    "df_dead = df.loc[df['response'] == 'dead']\n",
    "print(df.shape)\n",
    "print(df_alive.shape)\n",
    "print(df_dead.shape)"
   ]
  },
  {
   "cell_type": "code",
   "execution_count": 6,
   "metadata": {},
   "outputs": [],
   "source": [
    "def time_delta_to_days(row):\n",
    "    delta = row.lasttime - row.firsttime\n",
    "    delta = delta.days\n",
    "    return delta"
   ]
  },
  {
   "cell_type": "code",
   "execution_count": 7,
   "metadata": {},
   "outputs": [],
   "source": [
    "# calculate lifetime\n",
    "df_dead['lifetime'] = df_dead.apply(time_delta_to_days, axis=1)"
   ]
  },
  {
   "cell_type": "code",
   "execution_count": 8,
   "metadata": {},
   "outputs": [
    {
     "data": {
      "text/plain": [
       "(817303, 12)"
      ]
     },
     "execution_count": 8,
     "metadata": {},
     "output_type": "execute_result"
    }
   ],
   "source": [
    "df_dead.shape"
   ]
  },
  {
   "cell_type": "code",
   "execution_count": 9,
   "metadata": {},
   "outputs": [
    {
     "data": {
      "text/html": [
       "<div>\n",
       "<style scoped>\n",
       "    .dataframe tbody tr th:only-of-type {\n",
       "        vertical-align: middle;\n",
       "    }\n",
       "\n",
       "    .dataframe tbody tr th {\n",
       "        vertical-align: top;\n",
       "    }\n",
       "\n",
       "    .dataframe thead th {\n",
       "        text-align: right;\n",
       "    }\n",
       "</style>\n",
       "<table border=\"1\" class=\"dataframe\">\n",
       "  <thead>\n",
       "    <tr style=\"text-align: right;\">\n",
       "      <th></th>\n",
       "      <th>id</th>\n",
       "      <th>firsttime</th>\n",
       "      <th>lasttime</th>\n",
       "      <th>response</th>\n",
       "      <th>ip</th>\n",
       "      <th>as</th>\n",
       "      <th>domain</th>\n",
       "      <th>country</th>\n",
       "      <th>source</th>\n",
       "      <th>inetnum</th>\n",
       "      <th>netname</th>\n",
       "      <th>lifetime</th>\n",
       "    </tr>\n",
       "  </thead>\n",
       "  <tbody>\n",
       "    <tr>\n",
       "      <td>0</td>\n",
       "      <td>198137</td>\n",
       "      <td>2011-09-27 13:10:18</td>\n",
       "      <td>2012-03-25 08:17:41</td>\n",
       "      <td>dead</td>\n",
       "      <td>222.165.135.195</td>\n",
       "      <td>AS9329</td>\n",
       "      <td>wpc.gov.lk</td>\n",
       "      <td>LK</td>\n",
       "      <td>APNIC</td>\n",
       "      <td>222.165.135.0 - 222.165.135.255</td>\n",
       "      <td>CUS-LAN-SLT-LK</td>\n",
       "      <td>179</td>\n",
       "    </tr>\n",
       "    <tr>\n",
       "      <td>1</td>\n",
       "      <td>198193</td>\n",
       "      <td>2011-09-27 13:10:19</td>\n",
       "      <td>2013-06-24 17:22:49</td>\n",
       "      <td>dead</td>\n",
       "      <td>74.53.224.194</td>\n",
       "      <td>AS32613</td>\n",
       "      <td>hospitalsanbernabe.gov.co</td>\n",
       "      <td>US</td>\n",
       "      <td>ARIN</td>\n",
       "      <td>198.50.100.48 - 198.50.100.55</td>\n",
       "      <td>IWEB-CL-T118-490CL-1414</td>\n",
       "      <td>636</td>\n",
       "    </tr>\n",
       "    <tr>\n",
       "      <td>2</td>\n",
       "      <td>198221</td>\n",
       "      <td>2011-09-27 13:10:19</td>\n",
       "      <td>2014-01-26 19:16:56</td>\n",
       "      <td>dead</td>\n",
       "      <td>210.56.24.2</td>\n",
       "      <td>AS7590</td>\n",
       "      <td>un.org.pk</td>\n",
       "      <td>PK</td>\n",
       "      <td>APNIC</td>\n",
       "      <td>210.56.0.0 - 210.56.31.255</td>\n",
       "      <td>COMSATS</td>\n",
       "      <td>852</td>\n",
       "    </tr>\n",
       "    <tr>\n",
       "      <td>3</td>\n",
       "      <td>198341</td>\n",
       "      <td>2011-09-27 13:10:20</td>\n",
       "      <td>2013-02-22 04:40:33</td>\n",
       "      <td>dead</td>\n",
       "      <td>84.51.33.86</td>\n",
       "      <td>AS34104</td>\n",
       "      <td>espiyemeb.gov.tr</td>\n",
       "      <td>TR</td>\n",
       "      <td>RIPE</td>\n",
       "      <td>84.51.33.0 - 84.51.33.255</td>\n",
       "      <td>MARKUM_BILISIM_3</td>\n",
       "      <td>513</td>\n",
       "    </tr>\n",
       "    <tr>\n",
       "      <td>4</td>\n",
       "      <td>198382</td>\n",
       "      <td>2011-09-27 13:10:21</td>\n",
       "      <td>2012-03-03 12:38:32</td>\n",
       "      <td>dead</td>\n",
       "      <td>74.53.224.194</td>\n",
       "      <td>AS21844</td>\n",
       "      <td>hospitalsanbernabe.gov.co</td>\n",
       "      <td>US</td>\n",
       "      <td>ARIN</td>\n",
       "      <td>74.52.0.0 - 74.53.255.255</td>\n",
       "      <td>NETBLK-THEPLANET-BLK-14</td>\n",
       "      <td>157</td>\n",
       "    </tr>\n",
       "    <tr>\n",
       "      <td>...</td>\n",
       "      <td>...</td>\n",
       "      <td>...</td>\n",
       "      <td>...</td>\n",
       "      <td>...</td>\n",
       "      <td>...</td>\n",
       "      <td>...</td>\n",
       "      <td>...</td>\n",
       "      <td>...</td>\n",
       "      <td>...</td>\n",
       "      <td>...</td>\n",
       "      <td>...</td>\n",
       "      <td>...</td>\n",
       "    </tr>\n",
       "    <tr>\n",
       "      <td>940330</td>\n",
       "      <td>37236572</td>\n",
       "      <td>2017-03-31 19:34:19</td>\n",
       "      <td>2017-04-06 04:18:23</td>\n",
       "      <td>dead</td>\n",
       "      <td>209.59.188.159</td>\n",
       "      <td>AS32244</td>\n",
       "      <td>primerewardz.com</td>\n",
       "      <td>US</td>\n",
       "      <td>ARIN</td>\n",
       "      <td>209.59.128.0 - 209.59.191.255</td>\n",
       "      <td>LIQUIDWEB-2</td>\n",
       "      <td>5</td>\n",
       "    </tr>\n",
       "    <tr>\n",
       "      <td>940331</td>\n",
       "      <td>37236574</td>\n",
       "      <td>2017-03-31 19:34:19</td>\n",
       "      <td>2017-04-06 04:18:21</td>\n",
       "      <td>dead</td>\n",
       "      <td>209.59.188.159</td>\n",
       "      <td>AS32244</td>\n",
       "      <td>primerewardz.com</td>\n",
       "      <td>US</td>\n",
       "      <td>ARIN</td>\n",
       "      <td>209.59.128.0 - 209.59.191.255</td>\n",
       "      <td>LIQUIDWEB-2</td>\n",
       "      <td>5</td>\n",
       "    </tr>\n",
       "    <tr>\n",
       "      <td>940332</td>\n",
       "      <td>37236594</td>\n",
       "      <td>2017-03-31 19:34:21</td>\n",
       "      <td>2017-04-06 04:18:18</td>\n",
       "      <td>dead</td>\n",
       "      <td>209.59.188.159</td>\n",
       "      <td>AS32244</td>\n",
       "      <td>sheerrewards.com</td>\n",
       "      <td>US</td>\n",
       "      <td>ARIN</td>\n",
       "      <td>209.59.128.0 - 209.59.191.255</td>\n",
       "      <td>LIQUIDWEB-2</td>\n",
       "      <td>5</td>\n",
       "    </tr>\n",
       "    <tr>\n",
       "      <td>940333</td>\n",
       "      <td>37236595</td>\n",
       "      <td>2017-03-31 19:34:21</td>\n",
       "      <td>2017-04-06 04:18:16</td>\n",
       "      <td>dead</td>\n",
       "      <td>209.59.188.159</td>\n",
       "      <td>AS32244</td>\n",
       "      <td>sheerrewards.com</td>\n",
       "      <td>US</td>\n",
       "      <td>ARIN</td>\n",
       "      <td>209.59.128.0 - 209.59.191.255</td>\n",
       "      <td>LIQUIDWEB-2</td>\n",
       "      <td>5</td>\n",
       "    </tr>\n",
       "    <tr>\n",
       "      <td>940334</td>\n",
       "      <td>37236596</td>\n",
       "      <td>2017-03-31 19:34:21</td>\n",
       "      <td>2017-04-06 04:18:13</td>\n",
       "      <td>dead</td>\n",
       "      <td>209.59.188.159</td>\n",
       "      <td>AS32244</td>\n",
       "      <td>sheerrewards.com</td>\n",
       "      <td>US</td>\n",
       "      <td>ARIN</td>\n",
       "      <td>209.59.128.0 - 209.59.191.255</td>\n",
       "      <td>LIQUIDWEB-2</td>\n",
       "      <td>5</td>\n",
       "    </tr>\n",
       "  </tbody>\n",
       "</table>\n",
       "<p>817303 rows × 12 columns</p>\n",
       "</div>"
      ],
      "text/plain": [
       "              id           firsttime            lasttime response  \\\n",
       "0         198137 2011-09-27 13:10:18 2012-03-25 08:17:41     dead   \n",
       "1         198193 2011-09-27 13:10:19 2013-06-24 17:22:49     dead   \n",
       "2         198221 2011-09-27 13:10:19 2014-01-26 19:16:56     dead   \n",
       "3         198341 2011-09-27 13:10:20 2013-02-22 04:40:33     dead   \n",
       "4         198382 2011-09-27 13:10:21 2012-03-03 12:38:32     dead   \n",
       "...          ...                 ...                 ...      ...   \n",
       "940330  37236572 2017-03-31 19:34:19 2017-04-06 04:18:23     dead   \n",
       "940331  37236574 2017-03-31 19:34:19 2017-04-06 04:18:21     dead   \n",
       "940332  37236594 2017-03-31 19:34:21 2017-04-06 04:18:18     dead   \n",
       "940333  37236595 2017-03-31 19:34:21 2017-04-06 04:18:16     dead   \n",
       "940334  37236596 2017-03-31 19:34:21 2017-04-06 04:18:13     dead   \n",
       "\n",
       "                     ip       as                     domain country source  \\\n",
       "0       222.165.135.195   AS9329                 wpc.gov.lk      LK  APNIC   \n",
       "1         74.53.224.194  AS32613  hospitalsanbernabe.gov.co      US   ARIN   \n",
       "2           210.56.24.2   AS7590                  un.org.pk      PK  APNIC   \n",
       "3           84.51.33.86  AS34104           espiyemeb.gov.tr      TR   RIPE   \n",
       "4         74.53.224.194  AS21844  hospitalsanbernabe.gov.co      US   ARIN   \n",
       "...                 ...      ...                        ...     ...    ...   \n",
       "940330   209.59.188.159  AS32244           primerewardz.com      US   ARIN   \n",
       "940331   209.59.188.159  AS32244           primerewardz.com      US   ARIN   \n",
       "940332   209.59.188.159  AS32244           sheerrewards.com      US   ARIN   \n",
       "940333   209.59.188.159  AS32244           sheerrewards.com      US   ARIN   \n",
       "940334   209.59.188.159  AS32244           sheerrewards.com      US   ARIN   \n",
       "\n",
       "                                inetnum                  netname  lifetime  \n",
       "0       222.165.135.0 - 222.165.135.255           CUS-LAN-SLT-LK       179  \n",
       "1         198.50.100.48 - 198.50.100.55  IWEB-CL-T118-490CL-1414       636  \n",
       "2            210.56.0.0 - 210.56.31.255                  COMSATS       852  \n",
       "3             84.51.33.0 - 84.51.33.255         MARKUM_BILISIM_3       513  \n",
       "4             74.52.0.0 - 74.53.255.255  NETBLK-THEPLANET-BLK-14       157  \n",
       "...                                 ...                      ...       ...  \n",
       "940330    209.59.128.0 - 209.59.191.255              LIQUIDWEB-2         5  \n",
       "940331    209.59.128.0 - 209.59.191.255              LIQUIDWEB-2         5  \n",
       "940332    209.59.128.0 - 209.59.191.255              LIQUIDWEB-2         5  \n",
       "940333    209.59.128.0 - 209.59.191.255              LIQUIDWEB-2         5  \n",
       "940334    209.59.128.0 - 209.59.191.255              LIQUIDWEB-2         5  \n",
       "\n",
       "[817303 rows x 12 columns]"
      ]
     },
     "execution_count": 9,
     "metadata": {},
     "output_type": "execute_result"
    }
   ],
   "source": [
    "df_dead"
   ]
  },
  {
   "cell_type": "code",
   "execution_count": 13,
   "metadata": {},
   "outputs": [
    {
     "data": {
      "text/plain": [
       "Text(0.5, 0, 'lifetime in days')"
      ]
     },
     "execution_count": 13,
     "metadata": {},
     "output_type": "execute_result"
    },
    {
     "data": {
      "image/png": "[encoded data removed]",
      "text/plain": [
       "<Figure size 1008x576 with 1 Axes>"
      ]
     },
     "metadata": {
      "needs_background": "light"
     },
     "output_type": "display_data"
    }
   ],
   "source": [
    "asys = 'AS35732'\n",
    "\n",
    "plot = df_dead.loc[df_dead['as'] == asys].plot(kind='hist', y='lifetime', figsize=(14, 8), title='Distribution of lifetime for {}'.format(asys))\n",
    "plot.set_xlabel('lifetime in days')"
   ]
  },
  {
   "cell_type": "code",
   "execution_count": 8,
   "metadata": {},
   "outputs": [],
   "source": [
    "# filter out outliers\n",
    "df_dead['z_score'] = df_dead.groupby('as')['lifetime'].apply(lambda x: (x-x.mean())/x.std())\n",
    "df_dead = df_dead[abs(df_dead['z_score']) <3]"
   ]
  },
  {
   "cell_type": "code",
   "execution_count": 9,
   "metadata": {},
   "outputs": [
    {
     "data": {
      "text/plain": [
       "(794330, 13)"
      ]
     },
     "execution_count": 9,
     "metadata": {},
     "output_type": "execute_result"
    }
   ],
   "source": [
    "df_dead.shape"
   ]
  },
  {
   "cell_type": "code",
   "execution_count": 10,
   "metadata": {},
   "outputs": [
    {
     "data": {
      "text/plain": [
       "(861, 2)"
      ]
     },
     "execution_count": 10,
     "metadata": {},
     "output_type": "execute_result"
    }
   ],
   "source": [
    "# calculate mean lifetime per AS\n",
    "means = df_dead.groupby('as')['lifetime'].mean(numeric_only=False)\n",
    "counter = Counter(df_dead['as'])\n",
    "\n",
    "# filter out ASs with less than 100 incidents\n",
    "AS_lifetime = pd.DataFrame(means.sort_values())\n",
    "AS_lifetime['num_incidents'] = AS_lifetime.apply(lambda row: counter[row.name], axis=1)\n",
    "AS_lifetime = AS_lifetime.loc[AS_lifetime['num_incidents'] >= 100]\n",
    "AS_lifetime.shape"
   ]
  },
  {
   "cell_type": "code",
   "execution_count": 11,
   "metadata": {
    "scrolled": true
   },
   "outputs": [],
   "source": [
    "plot = AS_lifetime.sort_values(by=['lifetime'], ascending=0)[0:20].plot(kind='bar', secondary_y='num_incidents',figsize=(14,8), title='20 worst performing ASs')\n",
    "plot.set_ylabel('lifetime (days)')\n",
    "fig = plot.get_figure()\n",
    "fig.savefig('worst_20.png', bbox_inches = \"tight\")\n",
    "\n",
    "plot = AS_lifetime.sort_values(by=['lifetime'])[0:20].plot(kind='bar', secondary_y='num_incidents',figsize=(14,8), title='20 best performing ASs')\n",
    "plot.set_ylabel('lifetime (days)')\n",
    "fig = plot.get_figure()\n",
    "fig.savefig('best_20.png', bbox_inches = \"tight\")\n"
   ]
  },
  {
   "cell_type": "code",
   "execution_count": 32,
   "metadata": {},
   "outputs": [
    {
     "ename": "KeyError",
     "evalue": "'AS45910'",
     "output_type": "error",
     "traceback": [
      "\u001b[0;31m---------------------------------------------------------------------------\u001b[0m",
      "\u001b[0;31mKeyError\u001b[0m                                  Traceback (most recent call last)",
      "\u001b[0;32m~/econofcybsec/project_env/lib/python3.7/site-packages/pandas/core/indexes/base.py\u001b[0m in \u001b[0;36mget_loc\u001b[0;34m(self, key, method, tolerance)\u001b[0m\n\u001b[1;32m   2896\u001b[0m             \u001b[0;32mtry\u001b[0m\u001b[0;34m:\u001b[0m\u001b[0;34m\u001b[0m\u001b[0;34m\u001b[0m\u001b[0m\n\u001b[0;32m-> 2897\u001b[0;31m                 \u001b[0;32mreturn\u001b[0m \u001b[0mself\u001b[0m\u001b[0;34m.\u001b[0m\u001b[0m_engine\u001b[0m\u001b[0;34m.\u001b[0m\u001b[0mget_loc\u001b[0m\u001b[0;34m(\u001b[0m\u001b[0mkey\u001b[0m\u001b[0;34m)\u001b[0m\u001b[0;34m\u001b[0m\u001b[0;34m\u001b[0m\u001b[0m\n\u001b[0m\u001b[1;32m   2898\u001b[0m             \u001b[0;32mexcept\u001b[0m \u001b[0mKeyError\u001b[0m\u001b[0;34m:\u001b[0m\u001b[0;34m\u001b[0m\u001b[0;34m\u001b[0m\u001b[0m\n",
      "\u001b[0;32mpandas/_libs/index.pyx\u001b[0m in \u001b[0;36mpandas._libs.index.IndexEngine.get_loc\u001b[0;34m()\u001b[0m\n",
      "\u001b[0;32mpandas/_libs/index.pyx\u001b[0m in \u001b[0;36mpandas._libs.index.IndexEngine.get_loc\u001b[0;34m()\u001b[0m\n",
      "\u001b[0;32mpandas/_libs/hashtable_class_helper.pxi\u001b[0m in \u001b[0;36mpandas._libs.hashtable.PyObjectHashTable.get_item\u001b[0;34m()\u001b[0m\n",
      "\u001b[0;32mpandas/_libs/hashtable_class_helper.pxi\u001b[0m in \u001b[0;36mpandas._libs.hashtable.PyObjectHashTable.get_item\u001b[0;34m()\u001b[0m\n",
      "\u001b[0;31mKeyError\u001b[0m: 'AS45910'",
      "\nDuring handling of the above exception, another exception occurred:\n",
      "\u001b[0;31mKeyError\u001b[0m                                  Traceback (most recent call last)",
      "\u001b[0;32m<ipython-input-32-c73c6296797a>\u001b[0m in \u001b[0;36m<module>\u001b[0;34m\u001b[0m\n\u001b[0;32m----> 1\u001b[0;31m \u001b[0mAS_lifetime\u001b[0m\u001b[0;34m.\u001b[0m\u001b[0mloc\u001b[0m\u001b[0;34m[\u001b[0m\u001b[0;34m'AS45910'\u001b[0m\u001b[0;34m]\u001b[0m\u001b[0;34m\u001b[0m\u001b[0;34m\u001b[0m\u001b[0m\n\u001b[0m",
      "\u001b[0;32m~/econofcybsec/project_env/lib/python3.7/site-packages/pandas/core/indexing.py\u001b[0m in \u001b[0;36m__getitem__\u001b[0;34m(self, key)\u001b[0m\n\u001b[1;32m   1422\u001b[0m \u001b[0;34m\u001b[0m\u001b[0m\n\u001b[1;32m   1423\u001b[0m             \u001b[0mmaybe_callable\u001b[0m \u001b[0;34m=\u001b[0m \u001b[0mcom\u001b[0m\u001b[0;34m.\u001b[0m\u001b[0mapply_if_callable\u001b[0m\u001b[0;34m(\u001b[0m\u001b[0mkey\u001b[0m\u001b[0;34m,\u001b[0m \u001b[0mself\u001b[0m\u001b[0;34m.\u001b[0m\u001b[0mobj\u001b[0m\u001b[0;34m)\u001b[0m\u001b[0;34m\u001b[0m\u001b[0;34m\u001b[0m\u001b[0m\n\u001b[0;32m-> 1424\u001b[0;31m             \u001b[0;32mreturn\u001b[0m \u001b[0mself\u001b[0m\u001b[0;34m.\u001b[0m\u001b[0m_getitem_axis\u001b[0m\u001b[0;34m(\u001b[0m\u001b[0mmaybe_callable\u001b[0m\u001b[0;34m,\u001b[0m \u001b[0maxis\u001b[0m\u001b[0;34m=\u001b[0m\u001b[0maxis\u001b[0m\u001b[0;34m)\u001b[0m\u001b[0;34m\u001b[0m\u001b[0;34m\u001b[0m\u001b[0m\n\u001b[0m\u001b[1;32m   1425\u001b[0m \u001b[0;34m\u001b[0m\u001b[0m\n\u001b[1;32m   1426\u001b[0m     \u001b[0;32mdef\u001b[0m \u001b[0m_is_scalar_access\u001b[0m\u001b[0;34m(\u001b[0m\u001b[0mself\u001b[0m\u001b[0;34m,\u001b[0m \u001b[0mkey\u001b[0m\u001b[0;34m:\u001b[0m \u001b[0mTuple\u001b[0m\u001b[0;34m)\u001b[0m\u001b[0;34m:\u001b[0m\u001b[0;34m\u001b[0m\u001b[0;34m\u001b[0m\u001b[0m\n",
      "\u001b[0;32m~/econofcybsec/project_env/lib/python3.7/site-packages/pandas/core/indexing.py\u001b[0m in \u001b[0;36m_getitem_axis\u001b[0;34m(self, key, axis)\u001b[0m\n\u001b[1;32m   1848\u001b[0m         \u001b[0;31m# fall thru to straight lookup\u001b[0m\u001b[0;34m\u001b[0m\u001b[0;34m\u001b[0m\u001b[0;34m\u001b[0m\u001b[0m\n\u001b[1;32m   1849\u001b[0m         \u001b[0mself\u001b[0m\u001b[0;34m.\u001b[0m\u001b[0m_validate_key\u001b[0m\u001b[0;34m(\u001b[0m\u001b[0mkey\u001b[0m\u001b[0;34m,\u001b[0m \u001b[0maxis\u001b[0m\u001b[0;34m)\u001b[0m\u001b[0;34m\u001b[0m\u001b[0;34m\u001b[0m\u001b[0m\n\u001b[0;32m-> 1850\u001b[0;31m         \u001b[0;32mreturn\u001b[0m \u001b[0mself\u001b[0m\u001b[0;34m.\u001b[0m\u001b[0m_get_label\u001b[0m\u001b[0;34m(\u001b[0m\u001b[0mkey\u001b[0m\u001b[0;34m,\u001b[0m \u001b[0maxis\u001b[0m\u001b[0;34m=\u001b[0m\u001b[0maxis\u001b[0m\u001b[0;34m)\u001b[0m\u001b[0;34m\u001b[0m\u001b[0;34m\u001b[0m\u001b[0m\n\u001b[0m\u001b[1;32m   1851\u001b[0m \u001b[0;34m\u001b[0m\u001b[0m\n\u001b[1;32m   1852\u001b[0m \u001b[0;34m\u001b[0m\u001b[0m\n",
      "\u001b[0;32m~/econofcybsec/project_env/lib/python3.7/site-packages/pandas/core/indexing.py\u001b[0m in \u001b[0;36m_get_label\u001b[0;34m(self, label, axis)\u001b[0m\n\u001b[1;32m    158\u001b[0m             \u001b[0;32mraise\u001b[0m \u001b[0mIndexingError\u001b[0m\u001b[0;34m(\u001b[0m\u001b[0;34m\"no slices here, handle elsewhere\"\u001b[0m\u001b[0;34m)\u001b[0m\u001b[0;34m\u001b[0m\u001b[0;34m\u001b[0m\u001b[0m\n\u001b[1;32m    159\u001b[0m \u001b[0;34m\u001b[0m\u001b[0m\n\u001b[0;32m--> 160\u001b[0;31m         \u001b[0;32mreturn\u001b[0m \u001b[0mself\u001b[0m\u001b[0;34m.\u001b[0m\u001b[0mobj\u001b[0m\u001b[0;34m.\u001b[0m\u001b[0m_xs\u001b[0m\u001b[0;34m(\u001b[0m\u001b[0mlabel\u001b[0m\u001b[0;34m,\u001b[0m \u001b[0maxis\u001b[0m\u001b[0;34m=\u001b[0m\u001b[0maxis\u001b[0m\u001b[0;34m)\u001b[0m\u001b[0;34m\u001b[0m\u001b[0;34m\u001b[0m\u001b[0m\n\u001b[0m\u001b[1;32m    161\u001b[0m \u001b[0;34m\u001b[0m\u001b[0m\n\u001b[1;32m    162\u001b[0m     \u001b[0;32mdef\u001b[0m \u001b[0m_get_loc\u001b[0m\u001b[0;34m(\u001b[0m\u001b[0mself\u001b[0m\u001b[0;34m,\u001b[0m \u001b[0mkey\u001b[0m\u001b[0;34m:\u001b[0m \u001b[0mint\u001b[0m\u001b[0;34m,\u001b[0m \u001b[0maxis\u001b[0m\u001b[0;34m:\u001b[0m \u001b[0mint\u001b[0m\u001b[0;34m)\u001b[0m\u001b[0;34m:\u001b[0m\u001b[0;34m\u001b[0m\u001b[0;34m\u001b[0m\u001b[0m\n",
      "\u001b[0;32m~/econofcybsec/project_env/lib/python3.7/site-packages/pandas/core/generic.py\u001b[0m in \u001b[0;36mxs\u001b[0;34m(self, key, axis, level, drop_level)\u001b[0m\n\u001b[1;32m   3735\u001b[0m             \u001b[0mloc\u001b[0m\u001b[0;34m,\u001b[0m \u001b[0mnew_index\u001b[0m \u001b[0;34m=\u001b[0m \u001b[0mself\u001b[0m\u001b[0;34m.\u001b[0m\u001b[0mindex\u001b[0m\u001b[0;34m.\u001b[0m\u001b[0mget_loc_level\u001b[0m\u001b[0;34m(\u001b[0m\u001b[0mkey\u001b[0m\u001b[0;34m,\u001b[0m \u001b[0mdrop_level\u001b[0m\u001b[0;34m=\u001b[0m\u001b[0mdrop_level\u001b[0m\u001b[0;34m)\u001b[0m\u001b[0;34m\u001b[0m\u001b[0;34m\u001b[0m\u001b[0m\n\u001b[1;32m   3736\u001b[0m         \u001b[0;32melse\u001b[0m\u001b[0;34m:\u001b[0m\u001b[0;34m\u001b[0m\u001b[0;34m\u001b[0m\u001b[0m\n\u001b[0;32m-> 3737\u001b[0;31m             \u001b[0mloc\u001b[0m \u001b[0;34m=\u001b[0m \u001b[0mself\u001b[0m\u001b[0;34m.\u001b[0m\u001b[0mindex\u001b[0m\u001b[0;34m.\u001b[0m\u001b[0mget_loc\u001b[0m\u001b[0;34m(\u001b[0m\u001b[0mkey\u001b[0m\u001b[0;34m)\u001b[0m\u001b[0;34m\u001b[0m\u001b[0;34m\u001b[0m\u001b[0m\n\u001b[0m\u001b[1;32m   3738\u001b[0m \u001b[0;34m\u001b[0m\u001b[0m\n\u001b[1;32m   3739\u001b[0m             \u001b[0;32mif\u001b[0m \u001b[0misinstance\u001b[0m\u001b[0;34m(\u001b[0m\u001b[0mloc\u001b[0m\u001b[0;34m,\u001b[0m \u001b[0mnp\u001b[0m\u001b[0;34m.\u001b[0m\u001b[0mndarray\u001b[0m\u001b[0;34m)\u001b[0m\u001b[0;34m:\u001b[0m\u001b[0;34m\u001b[0m\u001b[0;34m\u001b[0m\u001b[0m\n",
      "\u001b[0;32m~/econofcybsec/project_env/lib/python3.7/site-packages/pandas/core/indexes/base.py\u001b[0m in \u001b[0;36mget_loc\u001b[0;34m(self, key, method, tolerance)\u001b[0m\n\u001b[1;32m   2897\u001b[0m                 \u001b[0;32mreturn\u001b[0m \u001b[0mself\u001b[0m\u001b[0;34m.\u001b[0m\u001b[0m_engine\u001b[0m\u001b[0;34m.\u001b[0m\u001b[0mget_loc\u001b[0m\u001b[0;34m(\u001b[0m\u001b[0mkey\u001b[0m\u001b[0;34m)\u001b[0m\u001b[0;34m\u001b[0m\u001b[0;34m\u001b[0m\u001b[0m\n\u001b[1;32m   2898\u001b[0m             \u001b[0;32mexcept\u001b[0m \u001b[0mKeyError\u001b[0m\u001b[0;34m:\u001b[0m\u001b[0;34m\u001b[0m\u001b[0;34m\u001b[0m\u001b[0m\n\u001b[0;32m-> 2899\u001b[0;31m                 \u001b[0;32mreturn\u001b[0m \u001b[0mself\u001b[0m\u001b[0;34m.\u001b[0m\u001b[0m_engine\u001b[0m\u001b[0;34m.\u001b[0m\u001b[0mget_loc\u001b[0m\u001b[0;34m(\u001b[0m\u001b[0mself\u001b[0m\u001b[0;34m.\u001b[0m\u001b[0m_maybe_cast_indexer\u001b[0m\u001b[0;34m(\u001b[0m\u001b[0mkey\u001b[0m\u001b[0;34m)\u001b[0m\u001b[0;34m)\u001b[0m\u001b[0;34m\u001b[0m\u001b[0;34m\u001b[0m\u001b[0m\n\u001b[0m\u001b[1;32m   2900\u001b[0m         \u001b[0mindexer\u001b[0m \u001b[0;34m=\u001b[0m \u001b[0mself\u001b[0m\u001b[0;34m.\u001b[0m\u001b[0mget_indexer\u001b[0m\u001b[0;34m(\u001b[0m\u001b[0;34m[\u001b[0m\u001b[0mkey\u001b[0m\u001b[0;34m]\u001b[0m\u001b[0;34m,\u001b[0m \u001b[0mmethod\u001b[0m\u001b[0;34m=\u001b[0m\u001b[0mmethod\u001b[0m\u001b[0;34m,\u001b[0m \u001b[0mtolerance\u001b[0m\u001b[0;34m=\u001b[0m\u001b[0mtolerance\u001b[0m\u001b[0;34m)\u001b[0m\u001b[0;34m\u001b[0m\u001b[0;34m\u001b[0m\u001b[0m\n\u001b[1;32m   2901\u001b[0m         \u001b[0;32mif\u001b[0m \u001b[0mindexer\u001b[0m\u001b[0;34m.\u001b[0m\u001b[0mndim\u001b[0m \u001b[0;34m>\u001b[0m \u001b[0;36m1\u001b[0m \u001b[0;32mor\u001b[0m \u001b[0mindexer\u001b[0m\u001b[0;34m.\u001b[0m\u001b[0msize\u001b[0m \u001b[0;34m>\u001b[0m \u001b[0;36m1\u001b[0m\u001b[0;34m:\u001b[0m\u001b[0;34m\u001b[0m\u001b[0;34m\u001b[0m\u001b[0m\n",
      "\u001b[0;32mpandas/_libs/index.pyx\u001b[0m in \u001b[0;36mpandas._libs.index.IndexEngine.get_loc\u001b[0;34m()\u001b[0m\n",
      "\u001b[0;32mpandas/_libs/index.pyx\u001b[0m in \u001b[0;36mpandas._libs.index.IndexEngine.get_loc\u001b[0;34m()\u001b[0m\n",
      "\u001b[0;32mpandas/_libs/hashtable_class_helper.pxi\u001b[0m in \u001b[0;36mpandas._libs.hashtable.PyObjectHashTable.get_item\u001b[0;34m()\u001b[0m\n",
      "\u001b[0;32mpandas/_libs/hashtable_class_helper.pxi\u001b[0m in \u001b[0;36mpandas._libs.hashtable.PyObjectHashTable.get_item\u001b[0;34m()\u001b[0m\n",
      "\u001b[0;31mKeyError\u001b[0m: 'AS45910'"
     ]
    }
   ],
   "source": [
    "AS_lifetime.loc['AS45910']"
   ]
  },
  {
   "cell_type": "code",
   "execution_count": null,
   "metadata": {},
   "outputs": [],
   "source": []
  },
  {
   "cell_type": "code",
   "execution_count": null,
   "metadata": {},
   "outputs": [],
   "source": [
    "\n"
   ]
  }
 ],
 "metadata": {
  "kernelspec": {
   "display_name": "Python 3",
   "language": "python",
   "name": "python3"
  },
  "language_info": {
   "codemirror_mode": {
    "name": "ipython",
    "version": 3
   },
   "file_extension": ".py",
   "mimetype": "text/x-python",
   "name": "python",
   "nbconvert_exporter": "python",
   "pygments_lexer": "ipython3",
   "version": "3.7.3"
  }
 },
 "nbformat": 4,
 "nbformat_minor": 2
}
