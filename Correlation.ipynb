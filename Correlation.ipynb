{
 "cells": [
  {
   "cell_type": "code",
   "execution_count": 147,
   "metadata": {},
   "outputs": [],
   "source": [
    "import pandas as pd\n",
    "import pycountry\n",
    "from scipy import stats\n",
    "import seaborn as sns\n",
    "import numpy as np\n",
    "import matplotlib.pyplot as plt\n",
    "import scipy.spatial.distance as dist\n",
    "from sklearn.preprocessing import MinMaxScaler"
   ]
  },
  {
   "cell_type": "code",
   "execution_count": 148,
   "metadata": {},
   "outputs": [
    {
     "data": {
      "text/html": [
       "<div>\n",
       "<style scoped>\n",
       "    .dataframe tbody tr th:only-of-type {\n",
       "        vertical-align: middle;\n",
       "    }\n",
       "\n",
       "    .dataframe tbody tr th {\n",
       "        vertical-align: top;\n",
       "    }\n",
       "\n",
       "    .dataframe thead th {\n",
       "        text-align: right;\n",
       "    }\n",
       "</style>\n",
       "<table border=\"1\" class=\"dataframe\">\n",
       "  <thead>\n",
       "    <tr style=\"text-align: right;\">\n",
       "      <th></th>\n",
       "      <th>HDI Rank (2017)</th>\n",
       "      <th>Country</th>\n",
       "      <th>1990</th>\n",
       "      <th>1991</th>\n",
       "      <th>1992</th>\n",
       "      <th>1993</th>\n",
       "      <th>1994</th>\n",
       "      <th>1995</th>\n",
       "      <th>1996</th>\n",
       "      <th>1997</th>\n",
       "      <th>...</th>\n",
       "      <th>2008</th>\n",
       "      <th>2009</th>\n",
       "      <th>2010</th>\n",
       "      <th>2011</th>\n",
       "      <th>2012</th>\n",
       "      <th>2013</th>\n",
       "      <th>2014</th>\n",
       "      <th>2015</th>\n",
       "      <th>2016</th>\n",
       "      <th>2017</th>\n",
       "    </tr>\n",
       "  </thead>\n",
       "  <tbody>\n",
       "    <tr>\n",
       "      <th>0</th>\n",
       "      <td>168</td>\n",
       "      <td>Afghanistan</td>\n",
       "      <td>..</td>\n",
       "      <td>..</td>\n",
       "      <td>..</td>\n",
       "      <td>..</td>\n",
       "      <td>..</td>\n",
       "      <td>..</td>\n",
       "      <td>..</td>\n",
       "      <td>..</td>\n",
       "      <td>...</td>\n",
       "      <td>0.437</td>\n",
       "      <td>0.453</td>\n",
       "      <td>0.463</td>\n",
       "      <td>0.471</td>\n",
       "      <td>0.482</td>\n",
       "      <td>0.487</td>\n",
       "      <td>0.491</td>\n",
       "      <td>0.493</td>\n",
       "      <td>0.494</td>\n",
       "      <td>0.498</td>\n",
       "    </tr>\n",
       "    <tr>\n",
       "      <th>1</th>\n",
       "      <td>68</td>\n",
       "      <td>Albania</td>\n",
       "      <td>0.645</td>\n",
       "      <td>0.626</td>\n",
       "      <td>0.610</td>\n",
       "      <td>0.613</td>\n",
       "      <td>0.619</td>\n",
       "      <td>0.632</td>\n",
       "      <td>0.641</td>\n",
       "      <td>0.641</td>\n",
       "      <td>...</td>\n",
       "      <td>0.724</td>\n",
       "      <td>0.729</td>\n",
       "      <td>0.741</td>\n",
       "      <td>0.752</td>\n",
       "      <td>0.767</td>\n",
       "      <td>0.771</td>\n",
       "      <td>0.773</td>\n",
       "      <td>0.776</td>\n",
       "      <td>0.782</td>\n",
       "      <td>0.785</td>\n",
       "    </tr>\n",
       "    <tr>\n",
       "      <th>2</th>\n",
       "      <td>85</td>\n",
       "      <td>Algeria</td>\n",
       "      <td>0.577</td>\n",
       "      <td>0.581</td>\n",
       "      <td>0.587</td>\n",
       "      <td>0.591</td>\n",
       "      <td>0.595</td>\n",
       "      <td>0.600</td>\n",
       "      <td>0.608</td>\n",
       "      <td>0.617</td>\n",
       "      <td>...</td>\n",
       "      <td>0.709</td>\n",
       "      <td>0.719</td>\n",
       "      <td>0.729</td>\n",
       "      <td>0.736</td>\n",
       "      <td>0.740</td>\n",
       "      <td>0.745</td>\n",
       "      <td>0.747</td>\n",
       "      <td>0.749</td>\n",
       "      <td>0.753</td>\n",
       "      <td>0.754</td>\n",
       "    </tr>\n",
       "    <tr>\n",
       "      <th>3</th>\n",
       "      <td>35</td>\n",
       "      <td>Andorra</td>\n",
       "      <td>..</td>\n",
       "      <td>..</td>\n",
       "      <td>..</td>\n",
       "      <td>..</td>\n",
       "      <td>..</td>\n",
       "      <td>..</td>\n",
       "      <td>..</td>\n",
       "      <td>..</td>\n",
       "      <td>...</td>\n",
       "      <td>0.831</td>\n",
       "      <td>0.830</td>\n",
       "      <td>0.828</td>\n",
       "      <td>0.827</td>\n",
       "      <td>0.849</td>\n",
       "      <td>0.850</td>\n",
       "      <td>0.853</td>\n",
       "      <td>0.854</td>\n",
       "      <td>0.856</td>\n",
       "      <td>0.858</td>\n",
       "    </tr>\n",
       "    <tr>\n",
       "      <th>4</th>\n",
       "      <td>147</td>\n",
       "      <td>Angola</td>\n",
       "      <td>..</td>\n",
       "      <td>..</td>\n",
       "      <td>..</td>\n",
       "      <td>..</td>\n",
       "      <td>..</td>\n",
       "      <td>..</td>\n",
       "      <td>..</td>\n",
       "      <td>..</td>\n",
       "      <td>...</td>\n",
       "      <td>0.502</td>\n",
       "      <td>0.522</td>\n",
       "      <td>0.520</td>\n",
       "      <td>0.535</td>\n",
       "      <td>0.543</td>\n",
       "      <td>0.554</td>\n",
       "      <td>0.564</td>\n",
       "      <td>0.572</td>\n",
       "      <td>0.577</td>\n",
       "      <td>0.581</td>\n",
       "    </tr>\n",
       "  </tbody>\n",
       "</table>\n",
       "<p>5 rows × 30 columns</p>\n",
       "</div>"
      ],
      "text/plain": [
       "  HDI Rank (2017)      Country   1990   1991   1992   1993   1994   1995  \\\n",
       "0             168  Afghanistan     ..     ..     ..     ..     ..     ..   \n",
       "1              68      Albania  0.645  0.626  0.610  0.613  0.619  0.632   \n",
       "2              85      Algeria  0.577  0.581  0.587  0.591  0.595  0.600   \n",
       "3              35      Andorra     ..     ..     ..     ..     ..     ..   \n",
       "4             147       Angola     ..     ..     ..     ..     ..     ..   \n",
       "\n",
       "    1996   1997  ...   2008   2009   2010   2011   2012   2013   2014   2015  \\\n",
       "0     ..     ..  ...  0.437  0.453  0.463  0.471  0.482  0.487  0.491  0.493   \n",
       "1  0.641  0.641  ...  0.724  0.729  0.741  0.752  0.767  0.771  0.773  0.776   \n",
       "2  0.608  0.617  ...  0.709  0.719  0.729  0.736  0.740  0.745  0.747  0.749   \n",
       "3     ..     ..  ...  0.831  0.830  0.828  0.827  0.849  0.850  0.853  0.854   \n",
       "4     ..     ..  ...  0.502  0.522  0.520  0.535  0.543  0.554  0.564  0.572   \n",
       "\n",
       "    2016   2017  \n",
       "0  0.494  0.498  \n",
       "1  0.782  0.785  \n",
       "2  0.753  0.754  \n",
       "3  0.856  0.858  \n",
       "4  0.577  0.581  \n",
       "\n",
       "[5 rows x 30 columns]"
      ]
     },
     "execution_count": 148,
     "metadata": {},
     "output_type": "execute_result"
    }
   ],
   "source": [
    "education_index = pd.read_csv('~/human_index.csv', sep=';')\n",
    "education_index.head()"
   ]
  },
  {
   "cell_type": "code",
   "execution_count": 149,
   "metadata": {},
   "outputs": [
    {
     "data": {
      "text/html": [
       "<div>\n",
       "<style scoped>\n",
       "    .dataframe tbody tr th:only-of-type {\n",
       "        vertical-align: middle;\n",
       "    }\n",
       "\n",
       "    .dataframe tbody tr th {\n",
       "        vertical-align: top;\n",
       "    }\n",
       "\n",
       "    .dataframe thead th {\n",
       "        text-align: right;\n",
       "    }\n",
       "</style>\n",
       "<table border=\"1\" class=\"dataframe\">\n",
       "  <thead>\n",
       "    <tr style=\"text-align: right;\">\n",
       "      <th></th>\n",
       "      <th>HDI Rank (2017)</th>\n",
       "      <th>Country</th>\n",
       "      <th>1990</th>\n",
       "      <th>1991</th>\n",
       "      <th>1992</th>\n",
       "      <th>1993</th>\n",
       "      <th>1994</th>\n",
       "      <th>1995</th>\n",
       "      <th>1996</th>\n",
       "      <th>1997</th>\n",
       "      <th>...</th>\n",
       "      <th>2009</th>\n",
       "      <th>2010</th>\n",
       "      <th>2011</th>\n",
       "      <th>2012</th>\n",
       "      <th>2013</th>\n",
       "      <th>2014</th>\n",
       "      <th>2015</th>\n",
       "      <th>2016</th>\n",
       "      <th>2017</th>\n",
       "      <th>country</th>\n",
       "    </tr>\n",
       "  </thead>\n",
       "  <tbody>\n",
       "    <tr>\n",
       "      <th>0</th>\n",
       "      <td>168</td>\n",
       "      <td>Afghanistan</td>\n",
       "      <td>..</td>\n",
       "      <td>..</td>\n",
       "      <td>..</td>\n",
       "      <td>..</td>\n",
       "      <td>..</td>\n",
       "      <td>..</td>\n",
       "      <td>..</td>\n",
       "      <td>..</td>\n",
       "      <td>...</td>\n",
       "      <td>0.453</td>\n",
       "      <td>0.463</td>\n",
       "      <td>0.471</td>\n",
       "      <td>0.482</td>\n",
       "      <td>0.487</td>\n",
       "      <td>0.491</td>\n",
       "      <td>0.493</td>\n",
       "      <td>0.494</td>\n",
       "      <td>0.498</td>\n",
       "      <td>AF</td>\n",
       "    </tr>\n",
       "    <tr>\n",
       "      <th>1</th>\n",
       "      <td>68</td>\n",
       "      <td>Albania</td>\n",
       "      <td>0.645</td>\n",
       "      <td>0.626</td>\n",
       "      <td>0.610</td>\n",
       "      <td>0.613</td>\n",
       "      <td>0.619</td>\n",
       "      <td>0.632</td>\n",
       "      <td>0.641</td>\n",
       "      <td>0.641</td>\n",
       "      <td>...</td>\n",
       "      <td>0.729</td>\n",
       "      <td>0.741</td>\n",
       "      <td>0.752</td>\n",
       "      <td>0.767</td>\n",
       "      <td>0.771</td>\n",
       "      <td>0.773</td>\n",
       "      <td>0.776</td>\n",
       "      <td>0.782</td>\n",
       "      <td>0.785</td>\n",
       "      <td>AL</td>\n",
       "    </tr>\n",
       "    <tr>\n",
       "      <th>2</th>\n",
       "      <td>85</td>\n",
       "      <td>Algeria</td>\n",
       "      <td>0.577</td>\n",
       "      <td>0.581</td>\n",
       "      <td>0.587</td>\n",
       "      <td>0.591</td>\n",
       "      <td>0.595</td>\n",
       "      <td>0.600</td>\n",
       "      <td>0.608</td>\n",
       "      <td>0.617</td>\n",
       "      <td>...</td>\n",
       "      <td>0.719</td>\n",
       "      <td>0.729</td>\n",
       "      <td>0.736</td>\n",
       "      <td>0.740</td>\n",
       "      <td>0.745</td>\n",
       "      <td>0.747</td>\n",
       "      <td>0.749</td>\n",
       "      <td>0.753</td>\n",
       "      <td>0.754</td>\n",
       "      <td>DZ</td>\n",
       "    </tr>\n",
       "    <tr>\n",
       "      <th>3</th>\n",
       "      <td>35</td>\n",
       "      <td>Andorra</td>\n",
       "      <td>..</td>\n",
       "      <td>..</td>\n",
       "      <td>..</td>\n",
       "      <td>..</td>\n",
       "      <td>..</td>\n",
       "      <td>..</td>\n",
       "      <td>..</td>\n",
       "      <td>..</td>\n",
       "      <td>...</td>\n",
       "      <td>0.830</td>\n",
       "      <td>0.828</td>\n",
       "      <td>0.827</td>\n",
       "      <td>0.849</td>\n",
       "      <td>0.850</td>\n",
       "      <td>0.853</td>\n",
       "      <td>0.854</td>\n",
       "      <td>0.856</td>\n",
       "      <td>0.858</td>\n",
       "      <td>AD</td>\n",
       "    </tr>\n",
       "    <tr>\n",
       "      <th>4</th>\n",
       "      <td>147</td>\n",
       "      <td>Angola</td>\n",
       "      <td>..</td>\n",
       "      <td>..</td>\n",
       "      <td>..</td>\n",
       "      <td>..</td>\n",
       "      <td>..</td>\n",
       "      <td>..</td>\n",
       "      <td>..</td>\n",
       "      <td>..</td>\n",
       "      <td>...</td>\n",
       "      <td>0.522</td>\n",
       "      <td>0.520</td>\n",
       "      <td>0.535</td>\n",
       "      <td>0.543</td>\n",
       "      <td>0.554</td>\n",
       "      <td>0.564</td>\n",
       "      <td>0.572</td>\n",
       "      <td>0.577</td>\n",
       "      <td>0.581</td>\n",
       "      <td>AO</td>\n",
       "    </tr>\n",
       "  </tbody>\n",
       "</table>\n",
       "<p>5 rows × 31 columns</p>\n",
       "</div>"
      ],
      "text/plain": [
       "  HDI Rank (2017)      Country   1990   1991   1992   1993   1994   1995  \\\n",
       "0             168  Afghanistan     ..     ..     ..     ..     ..     ..   \n",
       "1              68      Albania  0.645  0.626  0.610  0.613  0.619  0.632   \n",
       "2              85      Algeria  0.577  0.581  0.587  0.591  0.595  0.600   \n",
       "3              35      Andorra     ..     ..     ..     ..     ..     ..   \n",
       "4             147       Angola     ..     ..     ..     ..     ..     ..   \n",
       "\n",
       "    1996   1997  ...   2009   2010   2011   2012   2013   2014   2015   2016  \\\n",
       "0     ..     ..  ...  0.453  0.463  0.471  0.482  0.487  0.491  0.493  0.494   \n",
       "1  0.641  0.641  ...  0.729  0.741  0.752  0.767  0.771  0.773  0.776  0.782   \n",
       "2  0.608  0.617  ...  0.719  0.729  0.736  0.740  0.745  0.747  0.749  0.753   \n",
       "3     ..     ..  ...  0.830  0.828  0.827  0.849  0.850  0.853  0.854  0.856   \n",
       "4     ..     ..  ...  0.522  0.520  0.535  0.543  0.554  0.564  0.572  0.577   \n",
       "\n",
       "    2017 country  \n",
       "0  0.498      AF  \n",
       "1  0.785      AL  \n",
       "2  0.754      DZ  \n",
       "3  0.858      AD  \n",
       "4  0.581      AO  \n",
       "\n",
       "[5 rows x 31 columns]"
      ]
     },
     "execution_count": 149,
     "metadata": {},
     "output_type": "execute_result"
    }
   ],
   "source": [
    "countries = {}\n",
    "for country in pycountry.countries:\n",
    "    countries[country.name] = country.alpha_2\n",
    "\n",
    "education_index['country'] = [countries.get(country, 'Unknown code') for country in education_index.Country]\n",
    "education_index.head()"
   ]
  },
  {
   "cell_type": "code",
   "execution_count": 150,
   "metadata": {},
   "outputs": [
    {
     "data": {
      "text/html": [
       "<div>\n",
       "<style scoped>\n",
       "    .dataframe tbody tr th:only-of-type {\n",
       "        vertical-align: middle;\n",
       "    }\n",
       "\n",
       "    .dataframe tbody tr th {\n",
       "        vertical-align: top;\n",
       "    }\n",
       "\n",
       "    .dataframe thead th {\n",
       "        text-align: right;\n",
       "    }\n",
       "</style>\n",
       "<table border=\"1\" class=\"dataframe\">\n",
       "  <thead>\n",
       "    <tr style=\"text-align: right;\">\n",
       "      <th></th>\n",
       "      <th>2017</th>\n",
       "    </tr>\n",
       "    <tr>\n",
       "      <th>country</th>\n",
       "      <th></th>\n",
       "    </tr>\n",
       "  </thead>\n",
       "  <tbody>\n",
       "    <tr>\n",
       "      <th>AF</th>\n",
       "      <td>0.498</td>\n",
       "    </tr>\n",
       "    <tr>\n",
       "      <th>AL</th>\n",
       "      <td>0.785</td>\n",
       "    </tr>\n",
       "    <tr>\n",
       "      <th>DZ</th>\n",
       "      <td>0.754</td>\n",
       "    </tr>\n",
       "    <tr>\n",
       "      <th>AD</th>\n",
       "      <td>0.858</td>\n",
       "    </tr>\n",
       "    <tr>\n",
       "      <th>AO</th>\n",
       "      <td>0.581</td>\n",
       "    </tr>\n",
       "  </tbody>\n",
       "</table>\n",
       "</div>"
      ],
      "text/plain": [
       "          2017\n",
       "country       \n",
       "AF       0.498\n",
       "AL       0.785\n",
       "DZ       0.754\n",
       "AD       0.858\n",
       "AO       0.581"
      ]
     },
     "execution_count": 150,
     "metadata": {},
     "output_type": "execute_result"
    }
   ],
   "source": [
    "cols = ['country', '2017']\n",
    "education_index = education_index[cols]\n",
    "\n",
    "education_index['2017'] = pd.to_numeric(education_index['2017'], errors='coerce')\n",
    "education_index.set_index('country', inplace=True)\n",
    "education_index.head()"
   ]
  },
  {
   "cell_type": "code",
   "execution_count": 151,
   "metadata": {},
   "outputs": [
    {
     "data": {
      "text/html": [
       "<div>\n",
       "<style scoped>\n",
       "    .dataframe tbody tr th:only-of-type {\n",
       "        vertical-align: middle;\n",
       "    }\n",
       "\n",
       "    .dataframe tbody tr th {\n",
       "        vertical-align: top;\n",
       "    }\n",
       "\n",
       "    .dataframe thead th {\n",
       "        text-align: right;\n",
       "    }\n",
       "</style>\n",
       "<table border=\"1\" class=\"dataframe\">\n",
       "  <thead>\n",
       "    <tr style=\"text-align: right;\">\n",
       "      <th></th>\n",
       "      <th>COUNTRY</th>\n",
       "      <th>AMOUNT</th>\n",
       "    </tr>\n",
       "  </thead>\n",
       "  <tbody>\n",
       "    <tr>\n",
       "      <th>0</th>\n",
       "      <td>United States</td>\n",
       "      <td>6.24</td>\n",
       "    </tr>\n",
       "    <tr>\n",
       "      <th>1</th>\n",
       "      <td>Taiwan</td>\n",
       "      <td>6.04</td>\n",
       "    </tr>\n",
       "    <tr>\n",
       "      <th>2</th>\n",
       "      <td>Finland</td>\n",
       "      <td>5.92</td>\n",
       "    </tr>\n",
       "    <tr>\n",
       "      <th>3</th>\n",
       "      <td>Sweden</td>\n",
       "      <td>5.80</td>\n",
       "    </tr>\n",
       "    <tr>\n",
       "      <th>4</th>\n",
       "      <td>Japan</td>\n",
       "      <td>5.68</td>\n",
       "    </tr>\n",
       "  </tbody>\n",
       "</table>\n",
       "</div>"
      ],
      "text/plain": [
       "         COUNTRY  AMOUNT\n",
       "0  United States    6.24\n",
       "1         Taiwan    6.04\n",
       "2        Finland    5.92\n",
       "3         Sweden    5.80\n",
       "4          Japan    5.68"
      ]
     },
     "execution_count": 151,
     "metadata": {},
     "output_type": "execute_result"
    }
   ],
   "source": [
    "technology_index = pd.read_csv('~/tech_index.csv', sep=';')\n",
    "# technology_index['AMOUNT'] = technology_index['AMOUNT']/len(technology_index['AMOUNT'])\n",
    "technology_index.head()"
   ]
  },
  {
   "cell_type": "code",
   "execution_count": 152,
   "metadata": {},
   "outputs": [
    {
     "data": {
      "text/html": [
       "<div>\n",
       "<style scoped>\n",
       "    .dataframe tbody tr th:only-of-type {\n",
       "        vertical-align: middle;\n",
       "    }\n",
       "\n",
       "    .dataframe tbody tr th {\n",
       "        vertical-align: top;\n",
       "    }\n",
       "\n",
       "    .dataframe thead th {\n",
       "        text-align: right;\n",
       "    }\n",
       "</style>\n",
       "<table border=\"1\" class=\"dataframe\">\n",
       "  <thead>\n",
       "    <tr style=\"text-align: right;\">\n",
       "      <th></th>\n",
       "      <th>COUNTRY</th>\n",
       "      <th>AMOUNT</th>\n",
       "      <th>country</th>\n",
       "    </tr>\n",
       "  </thead>\n",
       "  <tbody>\n",
       "    <tr>\n",
       "      <th>0</th>\n",
       "      <td>United States</td>\n",
       "      <td>6.24</td>\n",
       "      <td>US</td>\n",
       "    </tr>\n",
       "    <tr>\n",
       "      <th>1</th>\n",
       "      <td>Taiwan</td>\n",
       "      <td>6.04</td>\n",
       "      <td>TW</td>\n",
       "    </tr>\n",
       "    <tr>\n",
       "      <th>2</th>\n",
       "      <td>Finland</td>\n",
       "      <td>5.92</td>\n",
       "      <td>FI</td>\n",
       "    </tr>\n",
       "    <tr>\n",
       "      <th>3</th>\n",
       "      <td>Sweden</td>\n",
       "      <td>5.80</td>\n",
       "      <td>SE</td>\n",
       "    </tr>\n",
       "    <tr>\n",
       "      <th>4</th>\n",
       "      <td>Japan</td>\n",
       "      <td>5.68</td>\n",
       "      <td>JP</td>\n",
       "    </tr>\n",
       "  </tbody>\n",
       "</table>\n",
       "</div>"
      ],
      "text/plain": [
       "         COUNTRY  AMOUNT country\n",
       "0  United States    6.24      US\n",
       "1         Taiwan    6.04      TW\n",
       "2        Finland    5.92      FI\n",
       "3         Sweden    5.80      SE\n",
       "4          Japan    5.68      JP"
      ]
     },
     "execution_count": 152,
     "metadata": {},
     "output_type": "execute_result"
    }
   ],
   "source": [
    "countries['Taiwan'] = 'TW'\n",
    "technology_index['country'] = [countries.get(country, 'Unknown code') for country in technology_index.COUNTRY]\n",
    "technology_index.head()"
   ]
  },
  {
   "cell_type": "code",
   "execution_count": 153,
   "metadata": {},
   "outputs": [
    {
     "data": {
      "text/html": [
       "<div>\n",
       "<style scoped>\n",
       "    .dataframe tbody tr th:only-of-type {\n",
       "        vertical-align: middle;\n",
       "    }\n",
       "\n",
       "    .dataframe tbody tr th {\n",
       "        vertical-align: top;\n",
       "    }\n",
       "\n",
       "    .dataframe thead th {\n",
       "        text-align: right;\n",
       "    }\n",
       "</style>\n",
       "<table border=\"1\" class=\"dataframe\">\n",
       "  <thead>\n",
       "    <tr style=\"text-align: right;\">\n",
       "      <th></th>\n",
       "      <th>country</th>\n",
       "      <th>AMOUNT</th>\n",
       "    </tr>\n",
       "  </thead>\n",
       "  <tbody>\n",
       "    <tr>\n",
       "      <th>0</th>\n",
       "      <td>US</td>\n",
       "      <td>6.24</td>\n",
       "    </tr>\n",
       "    <tr>\n",
       "      <th>1</th>\n",
       "      <td>TW</td>\n",
       "      <td>6.04</td>\n",
       "    </tr>\n",
       "    <tr>\n",
       "      <th>2</th>\n",
       "      <td>FI</td>\n",
       "      <td>5.92</td>\n",
       "    </tr>\n",
       "    <tr>\n",
       "      <th>3</th>\n",
       "      <td>SE</td>\n",
       "      <td>5.80</td>\n",
       "    </tr>\n",
       "    <tr>\n",
       "      <th>4</th>\n",
       "      <td>JP</td>\n",
       "      <td>5.68</td>\n",
       "    </tr>\n",
       "  </tbody>\n",
       "</table>\n",
       "</div>"
      ],
      "text/plain": [
       "  country  AMOUNT\n",
       "0      US    6.24\n",
       "1      TW    6.04\n",
       "2      FI    5.92\n",
       "3      SE    5.80\n",
       "4      JP    5.68"
      ]
     },
     "execution_count": 153,
     "metadata": {},
     "output_type": "execute_result"
    }
   ],
   "source": [
    "cols = ['country', 'AMOUNT']\n",
    "technology_index = technology_index[cols]\n",
    "technology_index['AMOUNT'] = pd.to_numeric(technology_index['AMOUNT'], errors='coerce')\n",
    "technology_index.head()"
   ]
  },
  {
   "cell_type": "code",
   "execution_count": 154,
   "metadata": {},
   "outputs": [
    {
     "data": {
      "text/html": [
       "<div>\n",
       "<style scoped>\n",
       "    .dataframe tbody tr th:only-of-type {\n",
       "        vertical-align: middle;\n",
       "    }\n",
       "\n",
       "    .dataframe tbody tr th {\n",
       "        vertical-align: top;\n",
       "    }\n",
       "\n",
       "    .dataframe thead th {\n",
       "        text-align: right;\n",
       "    }\n",
       "</style>\n",
       "<table border=\"1\" class=\"dataframe\">\n",
       "  <thead>\n",
       "    <tr style=\"text-align: right;\">\n",
       "      <th></th>\n",
       "      <th>country</th>\n",
       "      <th>total</th>\n",
       "    </tr>\n",
       "  </thead>\n",
       "  <tbody>\n",
       "    <tr>\n",
       "      <th>0</th>\n",
       "      <td>LK</td>\n",
       "      <td>0.000084</td>\n",
       "    </tr>\n",
       "    <tr>\n",
       "      <th>1</th>\n",
       "      <td>US</td>\n",
       "      <td>0.000024</td>\n",
       "    </tr>\n",
       "    <tr>\n",
       "      <th>2</th>\n",
       "      <td>PK</td>\n",
       "      <td>0.000021</td>\n",
       "    </tr>\n",
       "    <tr>\n",
       "      <th>3</th>\n",
       "      <td>TR</td>\n",
       "      <td>0.000154</td>\n",
       "    </tr>\n",
       "    <tr>\n",
       "      <th>4</th>\n",
       "      <td>CL</td>\n",
       "      <td>0.000124</td>\n",
       "    </tr>\n",
       "  </tbody>\n",
       "</table>\n",
       "</div>"
      ],
      "text/plain": [
       "  country     total\n",
       "0      LK  0.000084\n",
       "1      US  0.000024\n",
       "2      PK  0.000021\n",
       "3      TR  0.000154\n",
       "4      CL  0.000124"
      ]
     },
     "execution_count": 154,
     "metadata": {},
     "output_type": "execute_result"
    }
   ],
   "source": [
    "country_index = pd.read_csv('~/country_index.csv')\n",
    "country_index = country_index.loc[:, ~country_index.columns.str.contains('^Unnamed')]\n",
    "country_index.head()"
   ]
  },
  {
   "cell_type": "code",
   "execution_count": 155,
   "metadata": {},
   "outputs": [],
   "source": [
    "n = len(country_index['total'])\n",
    "x = np.sort(country_index['total'])\n",
    "y = np.arange(1, n+1) / n"
   ]
  },
  {
   "cell_type": "code",
   "execution_count": 156,
   "metadata": {},
   "outputs": [],
   "source": [
    "country_index.drop(index=208, inplace=True)\n",
    "country_index.drop(index=25, inplace=True)"
   ]
  },
  {
   "cell_type": "code",
   "execution_count": 157,
   "metadata": {},
   "outputs": [
    {
     "data": {
      "image/png": "[encoded data removed]",
      "text/plain": [
       "<Figure size 432x288 with 1 Axes>"
      ]
     },
     "metadata": {},
     "output_type": "display_data"
    }
   ],
   "source": [
    "sns.distplot(country_index['total'])\n",
    "plt.xlabel(\"Country Index\")\n",
    "plt.ylabel(\"Distribution Function\")\n",
    "plt.show()"
   ]
  },
  {
   "cell_type": "markdown",
   "metadata": {},
   "source": [
    "## Country and Education index"
   ]
  },
  {
   "cell_type": "code",
   "execution_count": 158,
   "metadata": {},
   "outputs": [],
   "source": [
    "country_education = pd.merge(country_index, education_index, on='country').dropna()"
   ]
  },
  {
   "cell_type": "code",
   "execution_count": 159,
   "metadata": {},
   "outputs": [],
   "source": [
    "country_education['total'] = MinMaxScaler().fit_transform(country_education[['total']])"
   ]
  },
  {
   "cell_type": "code",
   "execution_count": 160,
   "metadata": {},
   "outputs": [
    {
     "data": {
      "text/html": [
       "<div>\n",
       "<style scoped>\n",
       "    .dataframe tbody tr th:only-of-type {\n",
       "        vertical-align: middle;\n",
       "    }\n",
       "\n",
       "    .dataframe tbody tr th {\n",
       "        vertical-align: top;\n",
       "    }\n",
       "\n",
       "    .dataframe thead th {\n",
       "        text-align: right;\n",
       "    }\n",
       "</style>\n",
       "<table border=\"1\" class=\"dataframe\">\n",
       "  <thead>\n",
       "    <tr style=\"text-align: right;\">\n",
       "      <th></th>\n",
       "      <th>country</th>\n",
       "      <th>total</th>\n",
       "      <th>2017</th>\n",
       "    </tr>\n",
       "  </thead>\n",
       "  <tbody>\n",
       "    <tr>\n",
       "      <th>0</th>\n",
       "      <td>LK</td>\n",
       "      <td>0.025752</td>\n",
       "      <td>0.770</td>\n",
       "    </tr>\n",
       "    <tr>\n",
       "      <th>1</th>\n",
       "      <td>US</td>\n",
       "      <td>0.007234</td>\n",
       "      <td>0.924</td>\n",
       "    </tr>\n",
       "    <tr>\n",
       "      <th>2</th>\n",
       "      <td>PK</td>\n",
       "      <td>0.006422</td>\n",
       "      <td>0.562</td>\n",
       "    </tr>\n",
       "    <tr>\n",
       "      <th>3</th>\n",
       "      <td>TR</td>\n",
       "      <td>0.047218</td>\n",
       "      <td>0.791</td>\n",
       "    </tr>\n",
       "    <tr>\n",
       "      <th>4</th>\n",
       "      <td>CL</td>\n",
       "      <td>0.038076</td>\n",
       "      <td>0.843</td>\n",
       "    </tr>\n",
       "  </tbody>\n",
       "</table>\n",
       "</div>"
      ],
      "text/plain": [
       "  country     total   2017\n",
       "0      LK  0.025752  0.770\n",
       "1      US  0.007234  0.924\n",
       "2      PK  0.006422  0.562\n",
       "3      TR  0.047218  0.791\n",
       "4      CL  0.038076  0.843"
      ]
     },
     "execution_count": 160,
     "metadata": {},
     "output_type": "execute_result"
    }
   ],
   "source": [
    "country_education.head()"
   ]
  },
  {
   "cell_type": "code",
   "execution_count": 161,
   "metadata": {},
   "outputs": [],
   "source": [
    "n = len(country_education['2017'])\n",
    "x = np.sort(country_education['2017'])\n",
    "y = np.arange(1, n+1) / n"
   ]
  },
  {
   "cell_type": "code",
   "execution_count": 162,
   "metadata": {},
   "outputs": [
    {
     "data": {
      "text/plain": [
       "Text(0, 0.5, 'Distribution Function')"
      ]
     },
     "execution_count": 162,
     "metadata": {},
     "output_type": "execute_result"
    },
    {
     "data": {
      "image/png": "[encoded data removed]",
      "text/plain": [
       "<Figure size 576x504 with 1 Axes>"
      ]
     },
     "metadata": {},
     "output_type": "display_data"
    }
   ],
   "source": [
    "plt.figure(figsize=(8,7))\n",
    "sns.set()\n",
    "plt.plot(x, y, marker=\".\", linestyle=\"none\")\n",
    "plt.xlabel(\"Education Index\")\n",
    "plt.ylabel(\"Distribution Function\")"
   ]
  },
  {
   "cell_type": "code",
   "execution_count": 163,
   "metadata": {},
   "outputs": [
    {
     "data": {
      "image/png": "[encoded data removed]",
      "text/plain": [
       "<Figure size 432x288 with 1 Axes>"
      ]
     },
     "metadata": {},
     "output_type": "display_data"
    }
   ],
   "source": [
    "sns.distplot(country_education['total'])\n",
    "plt.xlabel(\"Country Index\")\n",
    "plt.ylabel(\"Distribution Function\")\n",
    "plt.show()"
   ]
  },
  {
   "cell_type": "code",
   "execution_count": 164,
   "metadata": {},
   "outputs": [
    {
     "data": {
      "image/png": "[encoded data removed]",
      "text/plain": [
       "<Figure size 432x288 with 1 Axes>"
      ]
     },
     "metadata": {},
     "output_type": "display_data"
    }
   ],
   "source": [
    "sns.distplot(country_education['2017'])\n",
    "plt.xlabel(\"Education Index\")\n",
    "plt.ylabel(\"Distribution Function\")\n",
    "plt.show()"
   ]
  },
  {
   "cell_type": "code",
   "execution_count": 165,
   "metadata": {},
   "outputs": [
    {
     "data": {
      "text/plain": [
       "(-0.10370821896006369, 0.19908205981937843)"
      ]
     },
     "execution_count": 165,
     "metadata": {},
     "output_type": "execute_result"
    }
   ],
   "source": [
    "country_education_pearson = stats.pearsonr(country_education['total'], country_education['2017'])\n",
    "country_education_pearson"
   ]
  },
  {
   "cell_type": "code",
   "execution_count": 166,
   "metadata": {},
   "outputs": [
    {
     "data": {
      "text/html": [
       "<div>\n",
       "<style scoped>\n",
       "    .dataframe tbody tr th:only-of-type {\n",
       "        vertical-align: middle;\n",
       "    }\n",
       "\n",
       "    .dataframe tbody tr th {\n",
       "        vertical-align: top;\n",
       "    }\n",
       "\n",
       "    .dataframe thead th {\n",
       "        text-align: right;\n",
       "    }\n",
       "</style>\n",
       "<table border=\"1\" class=\"dataframe\">\n",
       "  <thead>\n",
       "    <tr style=\"text-align: right;\">\n",
       "      <th></th>\n",
       "      <th>total</th>\n",
       "      <th>2017</th>\n",
       "    </tr>\n",
       "  </thead>\n",
       "  <tbody>\n",
       "    <tr>\n",
       "      <th>total</th>\n",
       "      <td>1.000000</td>\n",
       "      <td>-0.103708</td>\n",
       "    </tr>\n",
       "    <tr>\n",
       "      <th>2017</th>\n",
       "      <td>-0.103708</td>\n",
       "      <td>1.000000</td>\n",
       "    </tr>\n",
       "  </tbody>\n",
       "</table>\n",
       "</div>"
      ],
      "text/plain": [
       "          total      2017\n",
       "total  1.000000 -0.103708\n",
       "2017  -0.103708  1.000000"
      ]
     },
     "execution_count": 166,
     "metadata": {},
     "output_type": "execute_result"
    }
   ],
   "source": [
    "country_education.corr()"
   ]
  },
  {
   "cell_type": "markdown",
   "metadata": {},
   "source": [
    "## Country and Technology index"
   ]
  },
  {
   "cell_type": "code",
   "execution_count": 167,
   "metadata": {},
   "outputs": [],
   "source": [
    "country_technology = pd.merge(country_index, technology_index, on='country').dropna()\n",
    "country_technology['total'] = MinMaxScaler().fit_transform(country_technology[['total']])"
   ]
  },
  {
   "cell_type": "code",
   "execution_count": 168,
   "metadata": {},
   "outputs": [],
   "source": [
    "n = len(country_technology['AMOUNT'])\n",
    "x = np.sort(country_technology['AMOUNT'])\n",
    "y = np.arange(1, n+1) / n"
   ]
  },
  {
   "cell_type": "code",
   "execution_count": 169,
   "metadata": {},
   "outputs": [
    {
     "data": {
      "text/plain": [
       "Text(0, 0.5, 'Distribution Function')"
      ]
     },
     "execution_count": 169,
     "metadata": {},
     "output_type": "execute_result"
    },
    {
     "data": {
      "image/png": "[encoded data removed]",
      "text/plain": [
       "<Figure size 576x504 with 1 Axes>"
      ]
     },
     "metadata": {},
     "output_type": "display_data"
    }
   ],
   "source": [
    "plt.figure(figsize=(8,7))\n",
    "sns.set()\n",
    "plt.plot(x, y, marker=\".\", linestyle=\"none\")\n",
    "plt.xlabel(\"Technology Index\")\n",
    "plt.ylabel(\"Distribution Function\")"
   ]
  },
  {
   "cell_type": "code",
   "execution_count": 170,
   "metadata": {},
   "outputs": [
    {
     "data": {
      "image/png": "[encoded data removed]",
      "text/plain": [
       "<Figure size 432x288 with 1 Axes>"
      ]
     },
     "metadata": {},
     "output_type": "display_data"
    }
   ],
   "source": [
    "sns.distplot(country_technology['AMOUNT'])\n",
    "plt.xlabel(\"Technology Index\")\n",
    "plt.ylabel(\"Distribution Function\")\n",
    "plt.show()"
   ]
  },
  {
   "cell_type": "code",
   "execution_count": 171,
   "metadata": {},
   "outputs": [
    {
     "data": {
      "text/plain": [
       "(0.040632274632839804, 0.7021595330558136)"
      ]
     },
     "execution_count": 171,
     "metadata": {},
     "output_type": "execute_result"
    }
   ],
   "source": [
    "country_technology_pearson = stats.pearsonr(country_technology['total'], country_technology['AMOUNT'])\n",
    "country_technology_pearson"
   ]
  },
  {
   "cell_type": "code",
   "execution_count": 172,
   "metadata": {},
   "outputs": [
    {
     "data": {
      "text/html": [
       "<div>\n",
       "<style scoped>\n",
       "    .dataframe tbody tr th:only-of-type {\n",
       "        vertical-align: middle;\n",
       "    }\n",
       "\n",
       "    .dataframe tbody tr th {\n",
       "        vertical-align: top;\n",
       "    }\n",
       "\n",
       "    .dataframe thead th {\n",
       "        text-align: right;\n",
       "    }\n",
       "</style>\n",
       "<table border=\"1\" class=\"dataframe\">\n",
       "  <thead>\n",
       "    <tr style=\"text-align: right;\">\n",
       "      <th></th>\n",
       "      <th>total</th>\n",
       "      <th>AMOUNT</th>\n",
       "    </tr>\n",
       "  </thead>\n",
       "  <tbody>\n",
       "    <tr>\n",
       "      <th>total</th>\n",
       "      <td>1.000000</td>\n",
       "      <td>0.040632</td>\n",
       "    </tr>\n",
       "    <tr>\n",
       "      <th>AMOUNT</th>\n",
       "      <td>0.040632</td>\n",
       "      <td>1.000000</td>\n",
       "    </tr>\n",
       "  </tbody>\n",
       "</table>\n",
       "</div>"
      ],
      "text/plain": [
       "           total    AMOUNT\n",
       "total   1.000000  0.040632\n",
       "AMOUNT  0.040632  1.000000"
      ]
     },
     "execution_count": 172,
     "metadata": {},
     "output_type": "execute_result"
    }
   ],
   "source": [
    "country_technology.corr()"
   ]
  }
 ],
 "metadata": {
  "kernelspec": {
   "display_name": "Python 3",
   "language": "python",
   "name": "python3"
  },
  "language_info": {
   "codemirror_mode": {
    "name": "ipython",
    "version": 3
   },
   "file_extension": ".py",
   "mimetype": "text/x-python",
   "name": "python",
   "nbconvert_exporter": "python",
   "pygments_lexer": "ipython3",
   "version": "3.6.8"
  }
 },
 "nbformat": 4,
 "nbformat_minor": 2
}
