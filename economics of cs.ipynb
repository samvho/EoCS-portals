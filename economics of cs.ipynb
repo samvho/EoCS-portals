{
 "cells": [
  {
   "cell_type": "code",
   "execution_count": 62,
   "metadata": {},
   "outputs": [],
   "source": [
    "import numpy as np\n",
    "import pandas as pd\n",
    "import matplotlib.pyplot as plt\n",
    "import math\n",
    "import random\n",
    "import os\n",
    "from collections import Counter\n",
    "import collections\n",
    "import string\n",
    "import time\n",
    "import warnings\n",
    "warnings.filterwarnings(\"ignore\")"
   ]
  },
  {
   "cell_type": "markdown",
   "metadata": {},
   "source": [
    "Load data"
   ]
  },
  {
   "cell_type": "code",
   "execution_count": 63,
   "metadata": {},
   "outputs": [],
   "source": [
    "path = os.getcwd() + '/parsed_portals/all_portals_from_1.csv'"
   ]
  },
  {
   "cell_type": "code",
   "execution_count": 64,
   "metadata": {},
   "outputs": [],
   "source": [
    "data = pd.read_csv(path, sep=';',encoding='latin-1', error_bad_lines=False, usecols=[0,1,2,3,4,5,6,7,8,9,10,11,12,13,14,15,16,17,18,19,20,21,22,23,24])"
   ]
  },
  {
   "cell_type": "code",
   "execution_count": 147,
   "metadata": {},
   "outputs": [
    {
     "data": {
      "text/plain": [
       "Index(['line', 'id', 'sub', 'firsttime', 'lasttime', 'scanner', 'virusname',\n",
       "       'url', 'recent', 'response', 'ip', 'as', 'review', 'domain', 'country',\n",
       "       'source', 'email', 'inetnum', 'netname', 'ddescr', 'ns1', 'ns2', 'ns3',\n",
       "       'ns4', 'ns5'],\n",
       "      dtype='object')"
      ]
     },
     "execution_count": 147,
     "metadata": {},
     "output_type": "execute_result"
    }
   ],
   "source": [
    "data.columns"
   ]
  },
  {
   "cell_type": "markdown",
   "metadata": {},
   "source": [
    "Preproccess data\n"
   ]
  },
  {
   "cell_type": "code",
   "execution_count": 140,
   "metadata": {
    "scrolled": true
   },
   "outputs": [],
   "source": [
    "# clean data (NaN entries)\n",
    "data.dropna(subset=['country'], inplace=True)\n",
    "data.dropna(subset=['firsttime'], inplace=True)\n",
    "data.dropna(subset=['lasttime'], inplace=True)\n",
    "\n",
    "# define subset to increase performance\n",
    "data_subset = data[['line','firsttime','lasttime','recent','response', 'country']]\n",
    "\n",
    "# set datatime type for firsttime/lasttime\n",
    "data_subset['firsttime'] = pd.to_datetime(data_subset['firsttime'],format=\"%d-%m-%y %H:%M\")\n",
    "data_subset['lasttime'] = pd.to_datetime(data_subset['lasttime'],format=\"%d-%m-%y %H:%M\")\n"
   ]
  },
  {
   "cell_type": "code",
   "execution_count": 146,
   "metadata": {
    "scrolled": true
   },
   "outputs": [
    {
     "name": "stdout",
     "output_type": "stream",
     "text": [
      "(998384, 25)\n",
      "(998384, 7)\n"
     ]
    }
   ],
   "source": [
    "print(data.shape)\n",
    "print(data_subset.shape)\n"
   ]
  },
  {
   "cell_type": "code",
   "execution_count": 148,
   "metadata": {},
   "outputs": [],
   "source": [
    "# split data in alive / dead\n",
    "data_subset_alive = data_subset.loc[data_subset['response'] == 'alive']\n",
    "data_subset_dead = data_subset.loc[data_subset['response'] == 'dead']"
   ]
  },
  {
   "cell_type": "code",
   "execution_count": 152,
   "metadata": {},
   "outputs": [],
   "source": [
    "# add 'livetime' columndata\n",
    "data_subset_dead['livetime'] = data_subset.apply(lambda row: row.lasttime - row.firsttime, axis=1)\n"
   ]
  },
  {
   "cell_type": "code",
   "execution_count": 153,
   "metadata": {},
   "outputs": [],
   "source": [
    "means = data_subset_dead.groupby('country')['livetime'].mean(numeric_only=False)"
   ]
  },
  {
   "cell_type": "code",
   "execution_count": 154,
   "metadata": {},
   "outputs": [
    {
     "data": {
      "text/plain": [
       "country\n",
       "AD           85 days 02:30:36\n",
       "AE    60 days 21:36:32.584019\n",
       "AF            1 days 19:02:30\n",
       "AG          264 days 08:16:20\n",
       "AL   107 days 20:28:36.716417\n",
       "AM    75 days 17:48:45.503355\n",
       "AO          113 days 22:38:00\n",
       "AQ    25 days 03:26:35.132440\n",
       "AR    90 days 11:29:40.904427\n",
       "AT    72 days 10:19:13.790931\n",
       "AU    80 days 05:39:27.810545\n",
       "AW            6 days 02:55:00\n",
       "AX           57 days 11:19:30\n",
       "AZ    64 days 12:52:31.764705\n",
       "BA   110 days 11:33:24.722222\n",
       "BB          177 days 12:15:00\n",
       "BD    66 days 00:50:43.402298\n",
       "BE    86 days 22:08:38.289473\n",
       "BF   121 days 18:46:21.290322\n",
       "BG    95 days 03:40:06.806378\n",
       "BH           55 days 04:24:20\n",
       "BI    26 days 17:16:14.117647\n",
       "BM           39 days 01:34:00\n",
       "BN          126 days 13:53:32\n",
       "BO    76 days 15:49:54.069767\n",
       "BR    86 days 19:15:13.794521\n",
       "BS   218 days 23:59:39.230769\n",
       "BT     9 days 21:35:20.281690\n",
       "BW   104 days 05:40:54.545454\n",
       "BY   117 days 03:23:51.332453\n",
       "               ...           \n",
       "fi            3 days 06:04:00\n",
       "fr    92 days 15:54:29.044585\n",
       "gb          148 days 21:07:00\n",
       "ge            5 days 10:51:00\n",
       "gl          102 days 08:11:00\n",
       "gr          127 days 12:17:00\n",
       "ie          314 days 21:55:20\n",
       "il          158 days 22:29:00\n",
       "ir    59 days 19:20:20.264900\n",
       "is           79 days 20:01:00\n",
       "it    75 days 21:22:49.733840\n",
       "jo          165 days 05:54:00\n",
       "kr    40 days 21:51:00.705882\n",
       "lb           28 days 16:30:00\n",
       "md   121 days 02:26:18.461538\n",
       "nl          118 days 03:29:58\n",
       "no           34 days 06:46:24\n",
       "pl           33 days 17:07:00\n",
       "ro   108 days 14:03:35.294117\n",
       "rs   128 days 01:36:22.727272\n",
       "ru    40 days 20:24:27.692307\n",
       "sa   157 days 14:26:07.500000\n",
       "se    55 days 22:04:42.857142\n",
       "sy           45 days 11:57:06\n",
       "th   106 days 13:46:27.272727\n",
       "tj           36 days 22:54:00\n",
       "tr    71 days 21:10:18.378378\n",
       "ua     7 days 18:22:49.852941\n",
       "us    92 days 22:23:11.428571\n",
       "vn    74 days 15:14:56.027325\n",
       "Name: livetime, Length: 227, dtype: timedelta64[ns]"
      ]
     },
     "execution_count": 154,
     "metadata": {},
     "output_type": "execute_result"
    }
   ],
   "source": [
    "means"
   ]
  },
  {
   "cell_type": "markdown",
   "metadata": {},
   "source": []
  },
  {
   "cell_type": "code",
   "execution_count": 156,
   "metadata": {},
   "outputs": [
    {
     "name": "stdout",
     "output_type": "stream",
     "text": [
      "Counter({'US': 315964, 'PA': 88223, 'DE': 74863, 'RU': 54605, 'NL': 41855, 'UA': 36899, 'GB': 36555, 'FR': 22212, 'CA': 21441, 'CN': 19857, 'BR': 16537, 'IT': 14754, 'TR': 13767, 'HK': 12696, 'AU': 10071, 'ID': 10065, 'PL': 9242, 'AE': 8986, 'ES': 8042, 'IL': 7797, 'VG': 7793, 'IN': 7683, 'MX': 6800, 'DK': 6613, 'MY': 6427, 'JP': 6275, 'TH': 6207, 'CZ': 6011, 'HU': 5770, 'AR': 5263, 'VN': 4892, 'EU': 4623, 'SE': 4468, 'MA': 4095, 'SG': 4086, 'CL': 3991, 'PT': 3896, 'ZA': 3829, 'VE': 3319, 'RO': 3300, 'AQ': 3209, 'CH': 2896, 'KZ': 2722, 'NO': 2629, 'ro': 2227, 'BG': 2195, 'KR': 2141, 'vn': 1903, 'SI': 1765, 'MK': 1704, 'FI': 1643, 'HR': 1629, 'MD': 1625, 'NZ': 1624, 'AT': 1588, 'IE': 1579, 'IR': 1568, 'BE': 1520, 'BY': 1516, 'SA': 1438, 'GR': 1345, 'TW': 1335, 'BD': 1305, 'LT': 1290, 'RS': 1274, 'SK': 1165, 'CY': 906, 'EE': 624, 'LV': 595, 'IS': 554, 'TN': 525, 'GE': 503, 'PK': 498, 'CO': 472, 'CS': 471, 'de': 449, 'LU': 321, 'PH': 280, 'LK': 277, 'EG': 272, 'it': 263, 'kr': 255, 'NP': 253, 'PE': 248, 'KE': 234, 'es': 222, 'BA': 216, 'EC': 200, 'MG': 187, 'BO': 172, 'KY': 166, 'fr': 157, 'ir': 151, 'AM': 149, 'BT': 142, 'ua': 136, 'UZ': 130, 'NG': 130, 'CR': 119, 'MN': 117, 'tr': 111, 'ET': 105, 'KG': 102, 'ZW': 101, 'LY': 84, 'PS': 83, 'DO': 82, 'MM': 72, 'PF': 72, 'PY': 69, 'AL': 67, 'rs': 66, 'CG': 61, 'Es': 57, 'AZ': 51, 'DZ': 50, 'UY': 41, 'SY': 41, 'CM': 40, 'dk': 40, 'HN': 40, 'is': 40, 'MZ': 39, 'GT': 39, 'KW': 38, 'ba': 38, 'ME': 37, 'JO': 36, 'PR': 35, 'SV': 35, 'ZM': 34, 'SD': 33, 'CK': 32, 'BF': 31, 'nl': 30, 'TM': 30, 'NI': 30, 'CI': 29, 'LB': 29, 'SR': 29, 'CV': 28, 'KH': 28, 'NC': 27, 'BS': 26, 'GM': 26, 'md': 26, 'no': 25, 'SN': 24, 'ML': 23, 'LS': 23, 'RW': 22, 'us': 21, 'YU': 19, 'UG': 18, 'TZ': 18, 'IQ': 18, 'cn': 17, 'MV': 17, 'GH': 17, 'BI': 17, 'MC': 15, 'BN': 15, 'CU': 15, 'fi': 15, 'cz': 15, 'TJ': 14, 'MU': 14, 'YE': 14, 'MO': 13, 'ru': 13, 'PG': 12, 'MW': 11, 'th': 11, 'BZ': 11, 'BW': 11, 'sy': 10, 'AD': 10, 'by': 10, 'VU': 9, 'OM': 8, 'sa': 8, 'SZ': 7, 'se': 7, 'be': 4, 'SC': 4, 'MT': 4, 'WS': 4, 'AX': 4, 'CW': 4, 'GU': 4, 'BM': 3, 'GA': 3, 'lb': 3, 'AG': 3, 'il': 3, 'JM': 3, 'BH': 3, 'QA': 3, 'MR': 3, 'SM': 3, 'ie': 3, 'Dk': 3, 'LA': 3, 'DJ': 2, 'AF': 2, 'BB': 2, 'NE': 2, 'FO': 2, 'LI': 2, 'ge': 2, 'pl': 2, 'jo': 2, 'TG': 2, 'ch': 2, 'AO': 1, 'AW': 1, 'TO': 1, 'gl': 1, 'CD': 1, 'tj': 1, 'GI': 1, 'gb': 1, 'TT': 1, 'IM': 1, 'PM': 1, 'GP': 1, 'gr': 1})\n"
     ]
    }
   ],
   "source": [
    "counter = Counter(data_subset_dead['country'])\n",
    "\n",
    "print(counter)\n"
   ]
  },
  {
   "cell_type": "code",
   "execution_count": 116,
   "metadata": {},
   "outputs": [],
   "source": [
    "counter = Counter(data_subset['country'])\n",
    "countries = counter.keys()\n",
    "c_counts = counter.values()"
   ]
  },
  {
   "cell_type": "code",
   "execution_count": 117,
   "metadata": {},
   "outputs": [
    {
     "data": {
      "text/plain": [
       "Counter({'AT': 1618,\n",
       "         'CA': 21554,\n",
       "         'BR': 16604,\n",
       "         'US': 319680,\n",
       "         'NO': 2649,\n",
       "         'PT': 3917,\n",
       "         'HU': 5852,\n",
       "         'GB': 36756,\n",
       "         'JP': 6375,\n",
       "         'FR': 22422,\n",
       "         'PL': 9388,\n",
       "         'be': 4,\n",
       "         'CY': 910,\n",
       "         'CZ': 6119,\n",
       "         'NL': 42102,\n",
       "         'VE': 3322,\n",
       "         'DE': 75483,\n",
       "         'IN': 7693,\n",
       "         'IE': 1594,\n",
       "         'HR': 1631,\n",
       "         'AU': 10129,\n",
       "         'AE': 9031,\n",
       "         'BE': 1538,\n",
       "         'LV': 599,\n",
       "         'CH': 2981,\n",
       "         'KR': 2190,\n",
       "         'SK': 1184,\n",
       "         'DK': 6637,\n",
       "         'RO': 3339,\n",
       "         'RU': 55374,\n",
       "         'ES': 8156,\n",
       "         'de': 453,\n",
       "         'SE': 4574,\n",
       "         'MX': 6829,\n",
       "         'VG': 7799,\n",
       "         'kr': 255,\n",
       "         'MD': 1626,\n",
       "         'IT': 15098,\n",
       "         'TR': 13857,\n",
       "         'TW': 1388,\n",
       "         'CN': 19998,\n",
       "         'CL': 4006,\n",
       "         'BY': 1570,\n",
       "         'EU': 4755,\n",
       "         'BG': 2224,\n",
       "         'MC': 15,\n",
       "         'TH': 6258,\n",
       "         'SG': 4124,\n",
       "         'NZ': 1645,\n",
       "         'es': 223,\n",
       "         'UA': 36965,\n",
       "         'AR': 5297,\n",
       "         'HK': 12707,\n",
       "         'LK': 277,\n",
       "         'PK': 498,\n",
       "         'GE': 505,\n",
       "         'CO': 475,\n",
       "         'MA': 4100,\n",
       "         'MY': 6435,\n",
       "         'AZ': 52,\n",
       "         'RS': 1277,\n",
       "         'PE': 251,\n",
       "         'ZA': 3848,\n",
       "         'IL': 7876,\n",
       "         'BS': 26,\n",
       "         'ID': 10076,\n",
       "         'VN': 4902,\n",
       "         'BD': 1307,\n",
       "         'KZ': 2734,\n",
       "         'SA': 1453,\n",
       "         'DO': 83,\n",
       "         'ro': 2263,\n",
       "         'vn': 1904,\n",
       "         'EG': 272,\n",
       "         'TJ': 14,\n",
       "         'MK': 1715,\n",
       "         'fr': 158,\n",
       "         'PH': 280,\n",
       "         'LT': 1304,\n",
       "         'BA': 219,\n",
       "         'CS': 472,\n",
       "         'UZ': 131,\n",
       "         'IR': 1571,\n",
       "         'IS': 555,\n",
       "         'PY': 69,\n",
       "         'SI': 1780,\n",
       "         'LU': 322,\n",
       "         'nl': 30,\n",
       "         'tr': 111,\n",
       "         'BO': 174,\n",
       "         'MG': 187,\n",
       "         'CR': 120,\n",
       "         'GR': 1355,\n",
       "         'NG': 130,\n",
       "         'PS': 83,\n",
       "         'MO': 13,\n",
       "         'AL': 67,\n",
       "         'RW': 22,\n",
       "         'DZ': 51,\n",
       "         'CV': 28,\n",
       "         'cn': 17,\n",
       "         'CM': 40,\n",
       "         'KY': 169,\n",
       "         'TN': 525,\n",
       "         'TM': 30,\n",
       "         'AM': 149,\n",
       "         'NC': 27,\n",
       "         'PR': 35,\n",
       "         'KG': 102,\n",
       "         'AO': 1,\n",
       "         'BM': 3,\n",
       "         'sy': 10,\n",
       "         'KE': 234,\n",
       "         'KW': 39,\n",
       "         'SN': 24,\n",
       "         'ua': 136,\n",
       "         'UY': 41,\n",
       "         'PA': 88224,\n",
       "         'CI': 29,\n",
       "         'EE': 625,\n",
       "         'MU': 14,\n",
       "         'dk': 40,\n",
       "         'EC': 200,\n",
       "         'ZM': 34,\n",
       "         'MN': 117,\n",
       "         'UG': 18,\n",
       "         'BT': 142,\n",
       "         'LY': 84,\n",
       "         'SD': 33,\n",
       "         'rs': 66,\n",
       "         'NP': 254,\n",
       "         'ZW': 101,\n",
       "         'it': 263,\n",
       "         'DJ': 2,\n",
       "         'ET': 105,\n",
       "         'MZ': 39,\n",
       "         'FI': 1646,\n",
       "         'ir': 151,\n",
       "         'MW': 11,\n",
       "         'LB': 29,\n",
       "         'th': 11,\n",
       "         'BN': 15,\n",
       "         'JO': 36,\n",
       "         'GT': 39,\n",
       "         'BZ': 16,\n",
       "         'Es': 58,\n",
       "         'GM': 26,\n",
       "         'HN': 40,\n",
       "         'PG': 12,\n",
       "         'KH': 28,\n",
       "         'md': 26,\n",
       "         'AF': 2,\n",
       "         'BF': 31,\n",
       "         'GA': 3,\n",
       "         'ML': 23,\n",
       "         'MM': 72,\n",
       "         'CU': 15,\n",
       "         'SC': 4,\n",
       "         'lb': 3,\n",
       "         'OM': 9,\n",
       "         'BB': 2,\n",
       "         'AG': 3,\n",
       "         'SY': 41,\n",
       "         'SV': 35,\n",
       "         'NI': 30,\n",
       "         'TZ': 18,\n",
       "         'AW': 1,\n",
       "         'MV': 18,\n",
       "         'il': 3,\n",
       "         'JM': 3,\n",
       "         'GH': 17,\n",
       "         'MT': 5,\n",
       "         'ru': 14,\n",
       "         'LS': 23,\n",
       "         'PF': 72,\n",
       "         'SZ': 7,\n",
       "         'sa': 8,\n",
       "         'YE': 14,\n",
       "         'BH': 3,\n",
       "         'NE': 2,\n",
       "         'TO': 1,\n",
       "         'VU': 9,\n",
       "         'se': 7,\n",
       "         'QA': 3,\n",
       "         'SR': 29,\n",
       "         'ba': 38,\n",
       "         'gl': 1,\n",
       "         'BW': 11,\n",
       "         'fi': 15,\n",
       "         'ME': 37,\n",
       "         'BI': 17,\n",
       "         'MR': 3,\n",
       "         'CD': 1,\n",
       "         'no': 25,\n",
       "         'AN': 1,\n",
       "         'AQ': 3209,\n",
       "         'CK': 62,\n",
       "         'IQ': 18,\n",
       "         'tj': 1,\n",
       "         'FO': 2,\n",
       "         'SM': 3,\n",
       "         'AD': 10,\n",
       "         'WS': 4,\n",
       "         'LI': 2,\n",
       "         'by': 10,\n",
       "         'YU': 19,\n",
       "         'ie': 3,\n",
       "         'ge': 2,\n",
       "         'is': 40,\n",
       "         'GI': 1,\n",
       "         'cz': 15,\n",
       "         'CG': 61,\n",
       "         'VA': 2,\n",
       "         'gb': 1,\n",
       "         'AX': 4,\n",
       "         'pl': 2,\n",
       "         'Dk': 3,\n",
       "         'us': 21,\n",
       "         'CW': 4,\n",
       "         'LA': 3,\n",
       "         'TT': 1,\n",
       "         'jo': 2,\n",
       "         'TG': 2,\n",
       "         'IM': 1,\n",
       "         'GU': 4,\n",
       "         'PM': 1,\n",
       "         'GP': 1,\n",
       "         'ch': 2,\n",
       "         'gr': 1})"
      ]
     },
     "execution_count": 117,
     "metadata": {},
     "output_type": "execute_result"
    }
   ],
   "source": [
    "counter\n"
   ]
  },
  {
   "cell_type": "code",
   "execution_count": 30,
   "metadata": {},
   "outputs": [],
   "source": [
    "top_countries = pd.DataFrame()\n",
    "\n",
    "top_countries['country'] = counter.keys()\n",
    "top_countries['counts'] = counter.values()\n",
    "\n",
    "top_countries = top_countries.sort_values(by ='counts' , ascending=False)\n",
    "top_20_countries = top_countries[0:20]"
   ]
  },
  {
   "cell_type": "code",
   "execution_count": 31,
   "metadata": {},
   "outputs": [
    {
     "data": {
      "image/png": "[encoded data removed]",
      "text/plain": [
       "<Figure size 432x288 with 1 Axes>"
      ]
     },
     "metadata": {
      "needs_background": "light"
     },
     "output_type": "display_data"
    }
   ],
   "source": [
    "ind = np.arange(len(top_20_countries))\n",
    "plt.bar(ind, top_20_countries['counts'])\n",
    "plt.xticks(ind , top_20_countries['country'])\n",
    "plt.show()"
   ]
  },
  {
   "cell_type": "code",
   "execution_count": 38,
   "metadata": {},
   "outputs": [],
   "source": [
    "counter = Counter(data['virusname'])\n",
    "urls = counter.keys()\n",
    "c_counts = counter.values()"
   ]
  },
  {
   "cell_type": "code",
   "execution_count": 45,
   "metadata": {},
   "outputs": [],
   "source": [
    "top_virus = pd.DataFrame()\n",
    "\n",
    "top_virus['virus'] = counter.keys()\n",
    "top_virus['counts'] = counter.values()\n",
    "\n",
    "top_virus = top_virus.sort_values(by ='counts' , ascending=False)\n",
    "top_5_virus = top_virus[0:5]"
   ]
  },
  {
   "cell_type": "code",
   "execution_count": 46,
   "metadata": {},
   "outputs": [
    {
     "data": {
      "image/png": "[encoded data removed]",
      "text/plain": [
       "<Figure size 432x288 with 1 Axes>"
      ]
     },
     "metadata": {
      "needs_background": "light"
     },
     "output_type": "display_data"
    }
   ],
   "source": [
    "ind = np.arange(len(top_20_virus))\n",
    "plt.bar(ind, top_5_virus['counts'])\n",
    "plt.xticks(ind , top_5_virus['virus'])\n",
    "plt.show()"
   ]
  },
  {
   "cell_type": "code",
   "execution_count": null,
   "metadata": {},
   "outputs": [],
   "source": []
  }
 ],
 "metadata": {
  "kernelspec": {
   "display_name": "Python 3",
   "language": "python",
   "name": "python3"
  },
  "language_info": {
   "codemirror_mode": {
    "name": "ipython",
    "version": 3
   },
   "file_extension": ".py",
   "mimetype": "text/x-python",
   "name": "python",
   "nbconvert_exporter": "python",
   "pygments_lexer": "ipython3",
   "version": "3.7.3"
  }
 },
 "nbformat": 4,
 "nbformat_minor": 2
}
